{
 "cells": [
  {
   "cell_type": "markdown",
   "id": "5c95f15c",
   "metadata": {},
   "source": [
    "# Seaborn Tutorial\n",
    "\n",
    "\n",
    "## Distribution plot\n",
    " - distplot\n",
    " - joinplot (for 2 features)\n",
    " - pairplot (for >2 features)"
   ]
  },
  {
   "cell_type": "code",
   "execution_count": 3,
   "id": "4206504a",
   "metadata": {},
   "outputs": [],
   "source": [
    "import seaborn as sns"
   ]
  },
  {
   "cell_type": "code",
   "execution_count": null,
   "id": "b750fa82",
   "metadata": {},
   "outputs": [],
   "source": [
    "df = sns.load_dataset(\"dataset\")"
   ]
  },
  {
   "cell_type": "code",
   "execution_count": null,
   "id": "b422f649",
   "metadata": {},
   "outputs": [],
   "source": [
    "df.head()"
   ]
  },
  {
   "cell_type": "code",
   "execution_count": null,
   "id": "0b87f162",
   "metadata": {},
   "outputs": [],
   "source": []
  },
  {
   "cell_type": "markdown",
   "id": "81d76daa",
   "metadata": {},
   "source": [
    "# Correlation with Heat Map\n",
    "\n",
    "### A correlation heatmap uses colored cells, typically in a monochromatic scale, to show a 2D correlation matrix (table) between two discrete dimensions ### or event types. It is very important in Feature Selection"
   ]
  },
  {
   "cell_type": "code",
   "execution_count": null,
   "id": "69498264",
   "metadata": {},
   "outputs": [],
   "source": [
    "df.corr()"
   ]
  },
  {
   "cell_type": "code",
   "execution_count": null,
   "id": "7633d79b",
   "metadata": {},
   "outputs": [],
   "source": [
    "sns.heatmap(df.corr())"
   ]
  },
  {
   "cell_type": "markdown",
   "id": "07e28f6f",
   "metadata": {},
   "source": [
    "# JoinPlot\n",
    "\n",
    "### A join plot allows to study the relationship between 2 numeric variables. The central chart display their correlation. It is usually a scatterplot, a ### hexbin plot, a 2D histogram or a 2D density plot\n",
    "\n",
    "\n",
    "# Bivariate Analysis"
   ]
  },
  {
   "cell_type": "code",
   "execution_count": null,
   "id": "6c140f9a",
   "metadata": {},
   "outputs": [],
   "source": [
    "sns.jointplot(x = 'tip', y = 'total_bill', data = df, kind='hex')"
   ]
  },
  {
   "cell_type": "markdown",
   "id": "5db7cd8c",
   "metadata": {},
   "source": [
    "# Pair plot\n",
    "### A \"pairs plot\" is also known as a scatterplot, in which one variable in the same data row is matched with another variable's value, like this: Pairs ### plots are just elaborations on this, showing all variables paired with all the other variables sns.pairplot(df)"
   ]
  },
  {
   "cell_type": "code",
   "execution_count": null,
   "id": "e042da29",
   "metadata": {},
   "outputs": [],
   "source": [
    "sns.pairplot(df)"
   ]
  },
  {
   "cell_type": "markdown",
   "id": "987935ab",
   "metadata": {},
   "source": [
    "### count plot\n",
    "### Boxplot"
   ]
  },
  {
   "cell_type": "markdown",
   "id": "4de3b087",
   "metadata": {},
   "source": []
  }
 ],
 "metadata": {
  "kernelspec": {
   "display_name": "Python 3",
   "language": "python",
   "name": "python3"
  },
  "language_info": {
   "codemirror_mode": {
    "name": "ipython",
    "version": 3
   },
   "file_extension": ".py",
   "mimetype": "text/x-python",
   "name": "python",
   "nbconvert_exporter": "python",
   "pygments_lexer": "ipython3",
   "version": "3.12.0"
  }
 },
 "nbformat": 4,
 "nbformat_minor": 5
}
