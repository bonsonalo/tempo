{
 "cells": [
  {
   "cell_type": "markdown",
   "metadata": {},
   "source": [
    "<div align=\"center\" style=\" font-size: 80%; text-align: center; margin: 0 auto\">\n",
    "<img src=\"https://raw.githubusercontent.com/Explore-AI/Pictures/master/Python-Notebook-Banners/Examples.png\"  style=\"display: block; margin-left: auto; margin-right: auto;\";/>\n",
    "</div>"
   ]
  },
  {
   "cell_type": "markdown",
   "metadata": {},
   "source": [
    "# Examples: Working with DataFrames\n"
   ]
  },
  {
   "cell_type": "markdown",
   "metadata": {},
   "source": [
    "In this notebook, we cover how to manipulate, transform, and alter Pandas DataFrames."
   ]
  },
  {
   "cell_type": "markdown",
   "metadata": {},
   "source": [
    "## Learning objectives\n",
    "\n",
    "* Know how to sort, filter, and group Pandas DataFrames.\n",
    "* Understand how to create and delete columns in Pandas DataFrames.\n",
    "* Know how to apply custom transformations to Pandas DataFrames.\n"
   ]
  },
  {
   "cell_type": "markdown",
   "metadata": {},
   "source": [
    "## Introduction\n",
    "\n",
    "When a dataset only has a few data points, it's very easy to manually apply operations to the entire dataset. However, good datasets are very rarely this small. \n",
    "\n",
    "The Pandas library in Python allows us to use **vectorised operations** (i.e. operations across multiple data points simultaneously), making it much easier to **work with large amounts of data**.\n",
    "\n",
    "In this train, we look at how to **manipulate data within DataFrames**. \n",
    "\n",
    "Let's start by **importing** the **Pandas library** and the **dataset**."
   ]
  },
  {
   "cell_type": "code",
   "execution_count": 1,
   "metadata": {
    "jupyter": {
     "outputs_hidden": true
    }
   },
   "outputs": [],
   "source": [
    "import pandas as pd"
   ]
  },
  {
   "cell_type": "markdown",
   "metadata": {},
   "source": [
    "**Note:** A new version of the Pandas package, `Pandas 2`, was released in April 2023. While it comes with added functionality, we continue to use `Pandas 1` in this train for stability purposes."
   ]
  },
  {
   "cell_type": "code",
   "execution_count": 2,
   "metadata": {},
   "outputs": [
    {
     "name": "stderr",
     "output_type": "stream",
     "text": [
      "/tmp/ipykernel_102907/3842239110.py:2: DtypeWarning: Columns (14,26) have mixed types. Specify dtype option on import or set low_memory=False.\n",
      "  df = pd.read_csv('https://raw.githubusercontent.com/Explore-AI/Public-Data/master/Data/fundamentals/football_players.csv', index_col='Name')\n"
     ]
    },
    {
     "data": {
      "text/html": [
       "<div>\n",
       "<style scoped>\n",
       "    .dataframe tbody tr th:only-of-type {\n",
       "        vertical-align: middle;\n",
       "    }\n",
       "\n",
       "    .dataframe tbody tr th {\n",
       "        vertical-align: top;\n",
       "    }\n",
       "\n",
       "    .dataframe thead th {\n",
       "        text-align: right;\n",
       "    }\n",
       "</style>\n",
       "<table border=\"1\" class=\"dataframe\">\n",
       "  <thead>\n",
       "    <tr style=\"text-align: right;\">\n",
       "      <th></th>\n",
       "      <th>Age</th>\n",
       "      <th>Nationality</th>\n",
       "      <th>Overall</th>\n",
       "      <th>Acceleration</th>\n",
       "      <th>Aggression</th>\n",
       "      <th>Agility</th>\n",
       "      <th>Balance</th>\n",
       "      <th>Ball control</th>\n",
       "      <th>Composure</th>\n",
       "      <th>Crossing</th>\n",
       "      <th>...</th>\n",
       "      <th>Short passing</th>\n",
       "      <th>Shot power</th>\n",
       "      <th>Sliding tackle</th>\n",
       "      <th>Sprint speed</th>\n",
       "      <th>Stamina</th>\n",
       "      <th>Standing tackle</th>\n",
       "      <th>Strength</th>\n",
       "      <th>Vision</th>\n",
       "      <th>Volleys</th>\n",
       "      <th>Preferred Positions</th>\n",
       "    </tr>\n",
       "    <tr>\n",
       "      <th>Name</th>\n",
       "      <th></th>\n",
       "      <th></th>\n",
       "      <th></th>\n",
       "      <th></th>\n",
       "      <th></th>\n",
       "      <th></th>\n",
       "      <th></th>\n",
       "      <th></th>\n",
       "      <th></th>\n",
       "      <th></th>\n",
       "      <th></th>\n",
       "      <th></th>\n",
       "      <th></th>\n",
       "      <th></th>\n",
       "      <th></th>\n",
       "      <th></th>\n",
       "      <th></th>\n",
       "      <th></th>\n",
       "      <th></th>\n",
       "      <th></th>\n",
       "      <th></th>\n",
       "    </tr>\n",
       "  </thead>\n",
       "  <tbody>\n",
       "    <tr>\n",
       "      <th>Cristiano Ronaldo</th>\n",
       "      <td>32</td>\n",
       "      <td>Portugal</td>\n",
       "      <td>94</td>\n",
       "      <td>89</td>\n",
       "      <td>63</td>\n",
       "      <td>89</td>\n",
       "      <td>63</td>\n",
       "      <td>93</td>\n",
       "      <td>95</td>\n",
       "      <td>85</td>\n",
       "      <td>...</td>\n",
       "      <td>83</td>\n",
       "      <td>94</td>\n",
       "      <td>23</td>\n",
       "      <td>91</td>\n",
       "      <td>92</td>\n",
       "      <td>31</td>\n",
       "      <td>80</td>\n",
       "      <td>85</td>\n",
       "      <td>88</td>\n",
       "      <td>ST LW</td>\n",
       "    </tr>\n",
       "    <tr>\n",
       "      <th>L. Messi</th>\n",
       "      <td>30</td>\n",
       "      <td>Argentina</td>\n",
       "      <td>93</td>\n",
       "      <td>92</td>\n",
       "      <td>48</td>\n",
       "      <td>90</td>\n",
       "      <td>95</td>\n",
       "      <td>95</td>\n",
       "      <td>96</td>\n",
       "      <td>77</td>\n",
       "      <td>...</td>\n",
       "      <td>88</td>\n",
       "      <td>85</td>\n",
       "      <td>26</td>\n",
       "      <td>87</td>\n",
       "      <td>73</td>\n",
       "      <td>28</td>\n",
       "      <td>59</td>\n",
       "      <td>90</td>\n",
       "      <td>85</td>\n",
       "      <td>RW</td>\n",
       "    </tr>\n",
       "    <tr>\n",
       "      <th>Neymar</th>\n",
       "      <td>25</td>\n",
       "      <td>Brazil</td>\n",
       "      <td>92</td>\n",
       "      <td>94</td>\n",
       "      <td>56</td>\n",
       "      <td>96</td>\n",
       "      <td>82</td>\n",
       "      <td>95</td>\n",
       "      <td>92</td>\n",
       "      <td>75</td>\n",
       "      <td>...</td>\n",
       "      <td>81</td>\n",
       "      <td>80</td>\n",
       "      <td>33</td>\n",
       "      <td>90</td>\n",
       "      <td>78</td>\n",
       "      <td>24</td>\n",
       "      <td>53</td>\n",
       "      <td>80</td>\n",
       "      <td>83</td>\n",
       "      <td>LW</td>\n",
       "    </tr>\n",
       "    <tr>\n",
       "      <th>L. Suárez</th>\n",
       "      <td>30</td>\n",
       "      <td>Uruguay</td>\n",
       "      <td>92</td>\n",
       "      <td>88</td>\n",
       "      <td>78</td>\n",
       "      <td>86</td>\n",
       "      <td>60</td>\n",
       "      <td>91</td>\n",
       "      <td>83</td>\n",
       "      <td>77</td>\n",
       "      <td>...</td>\n",
       "      <td>83</td>\n",
       "      <td>87</td>\n",
       "      <td>38</td>\n",
       "      <td>77</td>\n",
       "      <td>89</td>\n",
       "      <td>45</td>\n",
       "      <td>80</td>\n",
       "      <td>84</td>\n",
       "      <td>88</td>\n",
       "      <td>ST</td>\n",
       "    </tr>\n",
       "    <tr>\n",
       "      <th>M. Neuer</th>\n",
       "      <td>31</td>\n",
       "      <td>Germany</td>\n",
       "      <td>92</td>\n",
       "      <td>58</td>\n",
       "      <td>29</td>\n",
       "      <td>52</td>\n",
       "      <td>35</td>\n",
       "      <td>48</td>\n",
       "      <td>70</td>\n",
       "      <td>15</td>\n",
       "      <td>...</td>\n",
       "      <td>55</td>\n",
       "      <td>25</td>\n",
       "      <td>11</td>\n",
       "      <td>61</td>\n",
       "      <td>44</td>\n",
       "      <td>10</td>\n",
       "      <td>83</td>\n",
       "      <td>70</td>\n",
       "      <td>11</td>\n",
       "      <td>GK</td>\n",
       "    </tr>\n",
       "  </tbody>\n",
       "</table>\n",
       "<p>5 rows × 38 columns</p>\n",
       "</div>"
      ],
      "text/plain": [
       "                   Age Nationality  Overall Acceleration Aggression Agility  \\\n",
       "Name                                                                          \n",
       "Cristiano Ronaldo   32    Portugal       94       89         63      89       \n",
       "L. Messi            30   Argentina       93       92         48      90       \n",
       "Neymar              25      Brazil       92       94         56      96       \n",
       "L. Suárez           30     Uruguay       92       88         78      86       \n",
       "M. Neuer            31     Germany       92       58         29      52       \n",
       "\n",
       "                  Balance Ball control Composure Crossing  ... Short passing  \\\n",
       "Name                                                       ...                 \n",
       "Cristiano Ronaldo  63           93        95       85      ...        83       \n",
       "L. Messi           95           95        96       77      ...        88       \n",
       "Neymar             82           95        92       75      ...        81       \n",
       "L. Suárez          60           91        83       77      ...        83       \n",
       "M. Neuer           35           48        70       15      ...        55       \n",
       "\n",
       "                  Shot power Sliding tackle Sprint speed Stamina  \\\n",
       "Name                                                               \n",
       "Cristiano Ronaldo     94             23           91      92       \n",
       "L. Messi              85             26           87      73       \n",
       "Neymar                80             33           90      78       \n",
       "L. Suárez             87             38           77      89       \n",
       "M. Neuer              25             11           61      44       \n",
       "\n",
       "                  Standing tackle Strength  Vision Volleys Preferred Positions  \n",
       "Name                                                                            \n",
       "Cristiano Ronaldo          31       80      85      88                  ST LW   \n",
       "L. Messi                   28       59      90      85                     RW   \n",
       "Neymar                     24       53      80      83                     LW   \n",
       "L. Suárez                  45       80      84      88                     ST   \n",
       "M. Neuer                   10       83      70      11                     GK   \n",
       "\n",
       "[5 rows x 38 columns]"
      ]
     },
     "execution_count": 2,
     "metadata": {},
     "output_type": "execute_result"
    }
   ],
   "source": [
    "# Load data - pass 'Name' as our index column.\n",
    "df = pd.read_csv('https://raw.githubusercontent.com/Explore-AI/Public-Data/master/Data/fundamentals/football_players.csv', index_col='Name')\n",
    "\n",
    "# Use the head() function to look at the first 5 rows.\n",
    "df.head()"
   ]
  },
  {
   "cell_type": "markdown",
   "metadata": {},
   "source": [
    "## Sorting\n",
    "\n",
    "One basic operation to perform when working with a large dataset is to **sort the values using some criteria**. \n",
    "\n",
    "For DataFrames, sorting can be achieved by using the `sort_values()` function. To **sort** data entries **by a specific column(s)**, we need to pass the column(s) to the function. \n",
    "\n",
    "Let's look at some examples:"
   ]
  },
  {
   "cell_type": "markdown",
   "metadata": {},
   "source": [
    "### Example 1a"
   ]
  },
  {
   "cell_type": "code",
   "execution_count": 3,
   "metadata": {},
   "outputs": [
    {
     "data": {
      "text/html": [
       "<div>\n",
       "<style scoped>\n",
       "    .dataframe tbody tr th:only-of-type {\n",
       "        vertical-align: middle;\n",
       "    }\n",
       "\n",
       "    .dataframe tbody tr th {\n",
       "        vertical-align: top;\n",
       "    }\n",
       "\n",
       "    .dataframe thead th {\n",
       "        text-align: right;\n",
       "    }\n",
       "</style>\n",
       "<table border=\"1\" class=\"dataframe\">\n",
       "  <thead>\n",
       "    <tr style=\"text-align: right;\">\n",
       "      <th></th>\n",
       "      <th>Age</th>\n",
       "      <th>Nationality</th>\n",
       "      <th>Overall</th>\n",
       "      <th>Acceleration</th>\n",
       "      <th>Aggression</th>\n",
       "      <th>Agility</th>\n",
       "      <th>Balance</th>\n",
       "      <th>Ball control</th>\n",
       "      <th>Composure</th>\n",
       "      <th>Crossing</th>\n",
       "      <th>...</th>\n",
       "      <th>Short passing</th>\n",
       "      <th>Shot power</th>\n",
       "      <th>Sliding tackle</th>\n",
       "      <th>Sprint speed</th>\n",
       "      <th>Stamina</th>\n",
       "      <th>Standing tackle</th>\n",
       "      <th>Strength</th>\n",
       "      <th>Vision</th>\n",
       "      <th>Volleys</th>\n",
       "      <th>Preferred Positions</th>\n",
       "    </tr>\n",
       "    <tr>\n",
       "      <th>Name</th>\n",
       "      <th></th>\n",
       "      <th></th>\n",
       "      <th></th>\n",
       "      <th></th>\n",
       "      <th></th>\n",
       "      <th></th>\n",
       "      <th></th>\n",
       "      <th></th>\n",
       "      <th></th>\n",
       "      <th></th>\n",
       "      <th></th>\n",
       "      <th></th>\n",
       "      <th></th>\n",
       "      <th></th>\n",
       "      <th></th>\n",
       "      <th></th>\n",
       "      <th></th>\n",
       "      <th></th>\n",
       "      <th></th>\n",
       "      <th></th>\n",
       "      <th></th>\n",
       "    </tr>\n",
       "  </thead>\n",
       "  <tbody>\n",
       "    <tr>\n",
       "      <th>M. Sprang</th>\n",
       "      <td>16</td>\n",
       "      <td>Germany</td>\n",
       "      <td>57</td>\n",
       "      <td>18</td>\n",
       "      <td>12</td>\n",
       "      <td>19</td>\n",
       "      <td>29</td>\n",
       "      <td>10</td>\n",
       "      <td>18</td>\n",
       "      <td>12</td>\n",
       "      <td>...</td>\n",
       "      <td>19</td>\n",
       "      <td>17</td>\n",
       "      <td>13</td>\n",
       "      <td>16</td>\n",
       "      <td>32</td>\n",
       "      <td>14</td>\n",
       "      <td>38</td>\n",
       "      <td>59</td>\n",
       "      <td>12</td>\n",
       "      <td>GK</td>\n",
       "    </tr>\n",
       "    <tr>\n",
       "      <th>E. Håland</th>\n",
       "      <td>16</td>\n",
       "      <td>Norway</td>\n",
       "      <td>58</td>\n",
       "      <td>63</td>\n",
       "      <td>67</td>\n",
       "      <td>68</td>\n",
       "      <td>59</td>\n",
       "      <td>57</td>\n",
       "      <td>48</td>\n",
       "      <td>42</td>\n",
       "      <td>...</td>\n",
       "      <td>46</td>\n",
       "      <td>56</td>\n",
       "      <td>15</td>\n",
       "      <td>73</td>\n",
       "      <td>51</td>\n",
       "      <td>11</td>\n",
       "      <td>66</td>\n",
       "      <td>49</td>\n",
       "      <td>51</td>\n",
       "      <td>ST</td>\n",
       "    </tr>\n",
       "    <tr>\n",
       "      <th>Javi Vázquez</th>\n",
       "      <td>16</td>\n",
       "      <td>Spain</td>\n",
       "      <td>58</td>\n",
       "      <td>61</td>\n",
       "      <td>53</td>\n",
       "      <td>48</td>\n",
       "      <td>65</td>\n",
       "      <td>47</td>\n",
       "      <td>43</td>\n",
       "      <td>33</td>\n",
       "      <td>...</td>\n",
       "      <td>41</td>\n",
       "      <td>42</td>\n",
       "      <td>59</td>\n",
       "      <td>64</td>\n",
       "      <td>59</td>\n",
       "      <td>63</td>\n",
       "      <td>55</td>\n",
       "      <td>37</td>\n",
       "      <td>29</td>\n",
       "      <td>CB</td>\n",
       "    </tr>\n",
       "    <tr>\n",
       "      <th>J. Romero</th>\n",
       "      <td>16</td>\n",
       "      <td>Argentina</td>\n",
       "      <td>58</td>\n",
       "      <td>75</td>\n",
       "      <td>36</td>\n",
       "      <td>70</td>\n",
       "      <td>86</td>\n",
       "      <td>55</td>\n",
       "      <td>59</td>\n",
       "      <td>46</td>\n",
       "      <td>...</td>\n",
       "      <td>52</td>\n",
       "      <td>54</td>\n",
       "      <td>25</td>\n",
       "      <td>77</td>\n",
       "      <td>58</td>\n",
       "      <td>26</td>\n",
       "      <td>41</td>\n",
       "      <td>51</td>\n",
       "      <td>45</td>\n",
       "      <td>ST</td>\n",
       "    </tr>\n",
       "    <tr>\n",
       "      <th>L. Geertruida</th>\n",
       "      <td>16</td>\n",
       "      <td>Netherlands</td>\n",
       "      <td>59</td>\n",
       "      <td>72</td>\n",
       "      <td>47</td>\n",
       "      <td>54</td>\n",
       "      <td>66</td>\n",
       "      <td>58</td>\n",
       "      <td>31</td>\n",
       "      <td>49</td>\n",
       "      <td>...</td>\n",
       "      <td>60</td>\n",
       "      <td>29</td>\n",
       "      <td>57</td>\n",
       "      <td>63</td>\n",
       "      <td>45</td>\n",
       "      <td>62</td>\n",
       "      <td>61</td>\n",
       "      <td>26</td>\n",
       "      <td>27</td>\n",
       "      <td>RB CB</td>\n",
       "    </tr>\n",
       "  </tbody>\n",
       "</table>\n",
       "<p>5 rows × 38 columns</p>\n",
       "</div>"
      ],
      "text/plain": [
       "               Age  Nationality  Overall Acceleration Aggression Agility  \\\n",
       "Name                                                                       \n",
       "M. Sprang       16      Germany       57       18         12      19       \n",
       "E. Håland       16       Norway       58       63         67      68       \n",
       "Javi Vázquez    16        Spain       58       61         53      48       \n",
       "J. Romero       16    Argentina       58       75         36      70       \n",
       "L. Geertruida   16  Netherlands       59       72         47      54       \n",
       "\n",
       "              Balance Ball control Composure Crossing  ... Short passing  \\\n",
       "Name                                                   ...                 \n",
       "M. Sprang      29           10        18       12      ...        19       \n",
       "E. Håland      59           57        48       42      ...        46       \n",
       "Javi Vázquez   65           47        43       33      ...        41       \n",
       "J. Romero      86           55        59       46      ...        52       \n",
       "L. Geertruida  66           58        31       49      ...        60       \n",
       "\n",
       "              Shot power Sliding tackle Sprint speed Stamina Standing tackle  \\\n",
       "Name                                                                           \n",
       "M. Sprang         17             13           16      32              14       \n",
       "E. Håland         56             15           73      51              11       \n",
       "Javi Vázquez      42             59           64      59              63       \n",
       "J. Romero         54             25           77      58              26       \n",
       "L. Geertruida     29             57           63      45              62       \n",
       "\n",
       "              Strength  Vision Volleys Preferred Positions  \n",
       "Name                                                        \n",
       "M. Sprang       38      59      12                     GK   \n",
       "E. Håland       66      49      51                     ST   \n",
       "Javi Vázquez    55      37      29                     CB   \n",
       "J. Romero       41      51      45                     ST   \n",
       "L. Geertruida   61      26      27                  RB CB   \n",
       "\n",
       "[5 rows x 38 columns]"
      ]
     },
     "execution_count": 3,
     "metadata": {},
     "output_type": "execute_result"
    }
   ],
   "source": [
    "# Sort by age from youngest to oldest (select first 5 entries).\n",
    "df.sort_values(by='Age').head()"
   ]
  },
  {
   "cell_type": "markdown",
   "metadata": {},
   "source": [
    "### Example 1b"
   ]
  },
  {
   "cell_type": "code",
   "execution_count": 4,
   "metadata": {},
   "outputs": [
    {
     "data": {
      "text/html": [
       "<div>\n",
       "<style scoped>\n",
       "    .dataframe tbody tr th:only-of-type {\n",
       "        vertical-align: middle;\n",
       "    }\n",
       "\n",
       "    .dataframe tbody tr th {\n",
       "        vertical-align: top;\n",
       "    }\n",
       "\n",
       "    .dataframe thead th {\n",
       "        text-align: right;\n",
       "    }\n",
       "</style>\n",
       "<table border=\"1\" class=\"dataframe\">\n",
       "  <thead>\n",
       "    <tr style=\"text-align: right;\">\n",
       "      <th></th>\n",
       "      <th>Age</th>\n",
       "      <th>Nationality</th>\n",
       "      <th>Overall</th>\n",
       "      <th>Acceleration</th>\n",
       "      <th>Aggression</th>\n",
       "      <th>Agility</th>\n",
       "      <th>Balance</th>\n",
       "      <th>Ball control</th>\n",
       "      <th>Composure</th>\n",
       "      <th>Crossing</th>\n",
       "      <th>...</th>\n",
       "      <th>Short passing</th>\n",
       "      <th>Shot power</th>\n",
       "      <th>Sliding tackle</th>\n",
       "      <th>Sprint speed</th>\n",
       "      <th>Stamina</th>\n",
       "      <th>Standing tackle</th>\n",
       "      <th>Strength</th>\n",
       "      <th>Vision</th>\n",
       "      <th>Volleys</th>\n",
       "      <th>Preferred Positions</th>\n",
       "    </tr>\n",
       "    <tr>\n",
       "      <th>Name</th>\n",
       "      <th></th>\n",
       "      <th></th>\n",
       "      <th></th>\n",
       "      <th></th>\n",
       "      <th></th>\n",
       "      <th></th>\n",
       "      <th></th>\n",
       "      <th></th>\n",
       "      <th></th>\n",
       "      <th></th>\n",
       "      <th></th>\n",
       "      <th></th>\n",
       "      <th></th>\n",
       "      <th></th>\n",
       "      <th></th>\n",
       "      <th></th>\n",
       "      <th></th>\n",
       "      <th></th>\n",
       "      <th></th>\n",
       "      <th></th>\n",
       "      <th></th>\n",
       "    </tr>\n",
       "  </thead>\n",
       "  <tbody>\n",
       "    <tr>\n",
       "      <th>J. Hove</th>\n",
       "      <td>16</td>\n",
       "      <td>Norway</td>\n",
       "      <td>51</td>\n",
       "      <td>57</td>\n",
       "      <td>57</td>\n",
       "      <td>58</td>\n",
       "      <td>56</td>\n",
       "      <td>51</td>\n",
       "      <td>42</td>\n",
       "      <td>40</td>\n",
       "      <td>...</td>\n",
       "      <td>56</td>\n",
       "      <td>50</td>\n",
       "      <td>56</td>\n",
       "      <td>64</td>\n",
       "      <td>47</td>\n",
       "      <td>51</td>\n",
       "      <td>54</td>\n",
       "      <td>56</td>\n",
       "      <td>29</td>\n",
       "      <td>CM</td>\n",
       "    </tr>\n",
       "    <tr>\n",
       "      <th>R. Strechie</th>\n",
       "      <td>16</td>\n",
       "      <td>Romania</td>\n",
       "      <td>54</td>\n",
       "      <td>64</td>\n",
       "      <td>51</td>\n",
       "      <td>63</td>\n",
       "      <td>61</td>\n",
       "      <td>52</td>\n",
       "      <td>47</td>\n",
       "      <td>43</td>\n",
       "      <td>...</td>\n",
       "      <td>60</td>\n",
       "      <td>52</td>\n",
       "      <td>50</td>\n",
       "      <td>61</td>\n",
       "      <td>61</td>\n",
       "      <td>54</td>\n",
       "      <td>62</td>\n",
       "      <td>53</td>\n",
       "      <td>28</td>\n",
       "      <td>CM</td>\n",
       "    </tr>\n",
       "    <tr>\n",
       "      <th>L. Pintor</th>\n",
       "      <td>16</td>\n",
       "      <td>France</td>\n",
       "      <td>54</td>\n",
       "      <td>72</td>\n",
       "      <td>29</td>\n",
       "      <td>70</td>\n",
       "      <td>68</td>\n",
       "      <td>56</td>\n",
       "      <td>43</td>\n",
       "      <td>27</td>\n",
       "      <td>...</td>\n",
       "      <td>30</td>\n",
       "      <td>57</td>\n",
       "      <td>12</td>\n",
       "      <td>68</td>\n",
       "      <td>36</td>\n",
       "      <td>10</td>\n",
       "      <td>34</td>\n",
       "      <td>38</td>\n",
       "      <td>48</td>\n",
       "      <td>ST</td>\n",
       "    </tr>\n",
       "    <tr>\n",
       "      <th>V. Barbero</th>\n",
       "      <td>16</td>\n",
       "      <td>Argentina</td>\n",
       "      <td>54</td>\n",
       "      <td>73</td>\n",
       "      <td>34</td>\n",
       "      <td>76</td>\n",
       "      <td>77</td>\n",
       "      <td>48</td>\n",
       "      <td>52</td>\n",
       "      <td>52</td>\n",
       "      <td>...</td>\n",
       "      <td>50</td>\n",
       "      <td>51</td>\n",
       "      <td>25</td>\n",
       "      <td>75</td>\n",
       "      <td>60</td>\n",
       "      <td>25</td>\n",
       "      <td>42</td>\n",
       "      <td>48</td>\n",
       "      <td>50</td>\n",
       "      <td>RM</td>\n",
       "    </tr>\n",
       "    <tr>\n",
       "      <th>M. Sprang</th>\n",
       "      <td>16</td>\n",
       "      <td>Germany</td>\n",
       "      <td>57</td>\n",
       "      <td>18</td>\n",
       "      <td>12</td>\n",
       "      <td>19</td>\n",
       "      <td>29</td>\n",
       "      <td>10</td>\n",
       "      <td>18</td>\n",
       "      <td>12</td>\n",
       "      <td>...</td>\n",
       "      <td>19</td>\n",
       "      <td>17</td>\n",
       "      <td>13</td>\n",
       "      <td>16</td>\n",
       "      <td>32</td>\n",
       "      <td>14</td>\n",
       "      <td>38</td>\n",
       "      <td>59</td>\n",
       "      <td>12</td>\n",
       "      <td>GK</td>\n",
       "    </tr>\n",
       "  </tbody>\n",
       "</table>\n",
       "<p>5 rows × 38 columns</p>\n",
       "</div>"
      ],
      "text/plain": [
       "             Age Nationality  Overall Acceleration Aggression Agility Balance  \\\n",
       "Name                                                                            \n",
       "J. Hove       16      Norway       51       57         57      58      56       \n",
       "R. Strechie   16     Romania       54       64         51      63      61       \n",
       "L. Pintor     16      France       54       72         29      70      68       \n",
       "V. Barbero    16   Argentina       54       73         34      76      77       \n",
       "M. Sprang     16     Germany       57       18         12      19      29       \n",
       "\n",
       "            Ball control Composure Crossing  ... Short passing Shot power  \\\n",
       "Name                                         ...                            \n",
       "J. Hove           51        42       40      ...        56         50       \n",
       "R. Strechie       52        47       43      ...        60         52       \n",
       "L. Pintor         56        43       27      ...        30         57       \n",
       "V. Barbero        48        52       52      ...        50         51       \n",
       "M. Sprang         10        18       12      ...        19         17       \n",
       "\n",
       "            Sliding tackle Sprint speed Stamina Standing tackle Strength  \\\n",
       "Name                                                                       \n",
       "J. Hove             56           64      47              51       54       \n",
       "R. Strechie         50           61      61              54       62       \n",
       "L. Pintor           12           68      36              10       34       \n",
       "V. Barbero          25           75      60              25       42       \n",
       "M. Sprang           13           16      32              14       38       \n",
       "\n",
       "             Vision Volleys Preferred Positions  \n",
       "Name                                             \n",
       "J. Hove      56      29                     CM   \n",
       "R. Strechie  53      28                     CM   \n",
       "L. Pintor    38      48                     ST   \n",
       "V. Barbero   48      50                     RM   \n",
       "M. Sprang    59      12                     GK   \n",
       "\n",
       "[5 rows x 38 columns]"
      ]
     },
     "execution_count": 4,
     "metadata": {},
     "output_type": "execute_result"
    }
   ],
   "source": [
    "# Sort by age from youngest to oldest (select first 5 entries), then by Overall, also ascending.\n",
    "df.sort_values(by=['Age', 'Overall']).head()"
   ]
  },
  {
   "cell_type": "markdown",
   "metadata": {},
   "source": [
    "### Example 2\n",
    "\n",
    "When sorting values, the default option sorts data in ascending order. If we want to sort in descending order, we need to pass in the parameter `ascending=False`."
   ]
  },
  {
   "cell_type": "code",
   "execution_count": null,
   "metadata": {},
   "outputs": [],
   "source": [
    "# Sort by age from oldest to youngest (select first 5 entries).\n",
    "df.sort_values(by='Age', ascending=False).head()"
   ]
  },
  {
   "cell_type": "markdown",
   "metadata": {},
   "source": [
    "## Filtering\n",
    "\n",
    "Another useful thing to do with a DataFrame is to filter the values to **only view the data we are interested in**. \n",
    "\n",
    "If we **pass in any condition inside the square brackets** after the DataFrame name, we filter out rows that fail to meet that condition. For example, the command `df['Age' > 30]` returns a boolean series containing the players' names (the index for our DataFrame) and whether the age is above 30 or not. When this is used to filter on our original DataFrame, it returns only rows that meet the condition."
   ]
  },
  {
   "cell_type": "markdown",
   "metadata": {},
   "source": [
    "### Example 3"
   ]
  },
  {
   "cell_type": "code",
   "execution_count": null,
   "metadata": {},
   "outputs": [],
   "source": [
    "# Filter on players older than 30.\n",
    "df[df['Age'] > 30]"
   ]
  },
  {
   "cell_type": "markdown",
   "metadata": {},
   "source": [
    "### Example 4\n",
    "\n",
    "We can also **pass multiple conditions** in the square brackets by using the `|` and `&` operators. \n",
    "\n",
    "**Note:** Each condition should be closed inside round brackets as well."
   ]
  },
  {
   "cell_type": "code",
   "execution_count": null,
   "metadata": {},
   "outputs": [],
   "source": [
    "# Filter on players older than 30 and overall rating greater than 90.\n",
    "df[(df['Age'] > 30) & (df['Overall'] > 90)]"
   ]
  },
  {
   "cell_type": "markdown",
   "metadata": {},
   "source": [
    "## Creating columns\n",
    "\n",
    "We can **create new columns from existing** columns in a Pandas DataFrame. \n",
    "\n",
    "We simply **define the new column name** as a string inside square brackets, followed by an `=` sign, and then the **function or operation** applied to the existing column(s). "
   ]
  },
  {
   "cell_type": "markdown",
   "metadata": {},
   "source": [
    "### Example 5"
   ]
  },
  {
   "cell_type": "code",
   "execution_count": null,
   "metadata": {},
   "outputs": [],
   "source": [
    "# Create a column of rating per year of age.\n",
    "df['Rating Per Year of Age'] = df['Overall'] / df['Age']\n",
    "\n",
    "# Look at the first 5 entries.\n",
    "df['Rating Per Year of Age'].head()"
   ]
  },
  {
   "cell_type": "markdown",
   "metadata": {},
   "source": [
    "## Deleting columns\n",
    "\n",
    "Columns can be deleted using the `drop()` function. \n",
    "\n",
    "The arguments are the **column name** and the **axis** which should be:\n",
    "- **1** if we are deleting **columns.**\n",
    "- **0** if we are deleting **rows**.\n"
   ]
  },
  {
   "cell_type": "markdown",
   "metadata": {},
   "source": [
    "### Example 6"
   ]
  },
  {
   "cell_type": "code",
   "execution_count": null,
   "metadata": {},
   "outputs": [],
   "source": [
    "# Drop the column we just created in Example 5\n",
    "df = df.drop('Rating Per Year of Age', axis=1)\n",
    "\n",
    "df.head()"
   ]
  },
  {
   "cell_type": "markdown",
   "metadata": {},
   "source": [
    "## Grouping data\n",
    "\n",
    "We can also **group** the data in a DataFrame **according to desired criteria**. \n",
    "\n",
    "Grouping in DataFrames can be achieved using the `groupby()` function. \n",
    "\n",
    "Depending on our application, we **may need to call an aggregation function** for the grouped data after the `groupby()` function call. Examples of aggregation functions include `mean()`, `sum()`, `min()`, and `max()`. This will result in **a column of values from the chosen aggregation** (for numeric columns)."
   ]
  },
  {
   "cell_type": "markdown",
   "metadata": {},
   "source": [
    "### Example 7"
   ]
  },
  {
   "cell_type": "code",
   "execution_count": 5,
   "metadata": {},
   "outputs": [
    {
     "data": {
      "text/html": [
       "<div>\n",
       "<style scoped>\n",
       "    .dataframe tbody tr th:only-of-type {\n",
       "        vertical-align: middle;\n",
       "    }\n",
       "\n",
       "    .dataframe tbody tr th {\n",
       "        vertical-align: top;\n",
       "    }\n",
       "\n",
       "    .dataframe thead th {\n",
       "        text-align: right;\n",
       "    }\n",
       "</style>\n",
       "<table border=\"1\" class=\"dataframe\">\n",
       "  <thead>\n",
       "    <tr style=\"text-align: right;\">\n",
       "      <th></th>\n",
       "      <th>Overall</th>\n",
       "    </tr>\n",
       "    <tr>\n",
       "      <th>Age</th>\n",
       "      <th></th>\n",
       "    </tr>\n",
       "  </thead>\n",
       "  <tbody>\n",
       "    <tr>\n",
       "      <th>16</th>\n",
       "      <td>57.846154</td>\n",
       "    </tr>\n",
       "    <tr>\n",
       "      <th>17</th>\n",
       "      <td>56.089147</td>\n",
       "    </tr>\n",
       "    <tr>\n",
       "      <th>18</th>\n",
       "      <td>57.287202</td>\n",
       "    </tr>\n",
       "    <tr>\n",
       "      <th>19</th>\n",
       "      <td>59.430309</td>\n",
       "    </tr>\n",
       "    <tr>\n",
       "      <th>20</th>\n",
       "      <td>61.559839</td>\n",
       "    </tr>\n",
       "  </tbody>\n",
       "</table>\n",
       "</div>"
      ],
      "text/plain": [
       "       Overall\n",
       "Age           \n",
       "16   57.846154\n",
       "17   56.089147\n",
       "18   57.287202\n",
       "19   59.430309\n",
       "20   61.559839"
      ]
     },
     "execution_count": 5,
     "metadata": {},
     "output_type": "execute_result"
    }
   ],
   "source": [
    "# Let's look at the average rating by age (first 5 rows).\n",
    "df.groupby('Age')[['Overall']].mean().head()"
   ]
  },
  {
   "cell_type": "markdown",
   "metadata": {},
   "source": [
    "### Example 8\n",
    "\n",
    "It is possible to **group by more than one column**. We simply need to pass the list of columns."
   ]
  },
  {
   "cell_type": "code",
   "execution_count": null,
   "metadata": {},
   "outputs": [],
   "source": [
    "# Look at the average rating by age and nationality (first 15 rows).\n",
    "df.groupby(['Age', 'Nationality'])[['Overall']].mean().head(15)"
   ]
  },
  {
   "cell_type": "markdown",
   "metadata": {},
   "source": [
    "## Transforming data\n",
    "\n",
    "It is often the case that we want to **format columns inside our DataFrame**. \n",
    "\n",
    "We can transform a column using the `apply()` function, while we use the `map()` function to transform multiple columns at once. We can create a function by using `def` or `lambda`."
   ]
  },
  {
   "cell_type": "markdown",
   "metadata": {},
   "source": [
    "### Example 9\n",
    "\n",
    "**a) Apply a custom function to a DataFrame**\n",
    "\n",
    "To format a column in our dataset, we start by creating the function."
   ]
  },
  {
   "cell_type": "code",
   "execution_count": 6,
   "metadata": {},
   "outputs": [],
   "source": [
    "# Using def to create a custom function.\n",
    "def year_to_month(x):\n",
    "    \"Converts no of years to no of months\"\n",
    "    return x * 12"
   ]
  },
  {
   "cell_type": "markdown",
   "metadata": {},
   "source": [
    "We then apply the function to the intended column."
   ]
  },
  {
   "cell_type": "code",
   "execution_count": 8,
   "metadata": {},
   "outputs": [
    {
     "data": {
      "text/plain": [
       "Name\n",
       "Cristiano Ronaldo    384\n",
       "L. Messi             360\n",
       "Neymar               300\n",
       "L. Suárez            360\n",
       "M. Neuer             372\n",
       "Name: Age, dtype: int64"
      ]
     },
     "execution_count": 8,
     "metadata": {},
     "output_type": "execute_result"
    }
   ],
   "source": [
    "# Change the age column to months and look at the first 5 entries.\n",
    "df['Age'].apply(year_to_month).head()"
   ]
  },
  {
   "cell_type": "markdown",
   "metadata": {},
   "source": [
    "### Example 10\n",
    "\n",
    "**b) Using a lambda function on a DataFrame**\n",
    "\n",
    "We can also use a lambda function and apply it to the DataFrame. A lambda operator or lambda function is used for **creating small, one-time, anonymous function objects** in Python. \n",
    "\n",
    "**Basic syntax:**\n",
    "\n",
    "```python\n",
    "lambda [arguments]: [expression]\n",
    "```\n",
    "\n",
    "Lambda operators can have any number of arguments, but they can have **only one expression**. It cannot contain any  `print` or `raise` statements, and it returns a function object which can be assigned to any variable."
   ]
  },
  {
   "cell_type": "code",
   "execution_count": 9,
   "metadata": {},
   "outputs": [],
   "source": [
    "# Using a lambda operator.\n",
    "year_to_month_lamb = lambda x: x * 12"
   ]
  },
  {
   "cell_type": "code",
   "execution_count": 10,
   "metadata": {},
   "outputs": [
    {
     "name": "stdout",
     "output_type": "stream",
     "text": [
      "def:  360\n",
      "lambda:  360\n"
     ]
    }
   ],
   "source": [
    "# Print function answer.\n",
    "print('def: ', year_to_month(30))\n",
    "print('lambda: ', year_to_month_lamb(30))"
   ]
  },
  {
   "cell_type": "markdown",
   "metadata": {},
   "source": [
    "In the example above, we can see that both function versions, `def` and `lambda`, produce the same output. The difference is that the `lambda` can only have a single expression and does not need to return anything.\n",
    "\n",
    "Let's use the lambda function to format a column in our dataset:"
   ]
  },
  {
   "cell_type": "code",
   "execution_count": 11,
   "metadata": {},
   "outputs": [
    {
     "data": {
      "text/plain": [
       "Name\n",
       "Cristiano Ronaldo    384\n",
       "L. Messi             360\n",
       "Neymar               300\n",
       "L. Suárez            360\n",
       "M. Neuer             372\n",
       "Name: Age, dtype: int64"
      ]
     },
     "execution_count": 11,
     "metadata": {},
     "output_type": "execute_result"
    }
   ],
   "source": [
    "# Change the age column to months and look at the first 5 entries.\n",
    "df['Age'].apply(lambda x: x*12).head()"
   ]
  },
  {
   "cell_type": "markdown",
   "metadata": {},
   "source": [
    "### Example 11\n",
    "\n",
    "Let's try to create a function that creates a column with the **player position type**, where types can be `Forward`, `Midfielder`, `Back`, or `GoalKeeper`."
   ]
  },
  {
   "cell_type": "code",
   "execution_count": 12,
   "metadata": {},
   "outputs": [],
   "source": [
    "# Create function.\n",
    "def position_type(s):\n",
    "    \n",
    "    \"\"\"\"This function converts the individual positions (abbreviations) and classifies it\n",
    "    as either a Forward, Midfielder, Back, or Goalkeeper\"\"\"\n",
    "    \n",
    "    if (s[-2] == 'T') | (s[-2] == 'W'):\n",
    "        return 'Forward'\n",
    "    elif s[-2] == 'M':\n",
    "        return 'Midfielder'\n",
    "    elif s[-2] == 'B':\n",
    "        return 'Back'\n",
    "    else:\n",
    "        return 'GoalKeeper'"
   ]
  },
  {
   "cell_type": "code",
   "execution_count": 13,
   "metadata": {},
   "outputs": [
    {
     "data": {
      "text/plain": [
       "Name\n",
       "Cristiano Ronaldo       Forward\n",
       "L. Messi                Forward\n",
       "Neymar                  Forward\n",
       "L. Suárez               Forward\n",
       "M. Neuer             GoalKeeper\n",
       "Name: Preferred Positions Type, dtype: object"
      ]
     },
     "execution_count": 13,
     "metadata": {},
     "output_type": "execute_result"
    }
   ],
   "source": [
    "# Create position type column.\n",
    "df['Preferred Positions Type'] = df['Preferred Positions'].apply(position_type)\n",
    "\n",
    "# Look at the first 5 entries.\n",
    "df['Preferred Positions Type'].head()"
   ]
  },
  {
   "cell_type": "markdown",
   "metadata": {},
   "source": [
    "### Example 12\n",
    "\n",
    "Let's create another function to transform many columns at once using the `map()` function. \n",
    "\n",
    "Before we go on, a lot of the columns look like they should be numerical but are actually stored as a string. We can check this by using the `info()` function:"
   ]
  },
  {
   "cell_type": "code",
   "execution_count": 14,
   "metadata": {},
   "outputs": [
    {
     "name": "stdout",
     "output_type": "stream",
     "text": [
      "<class 'pandas.core.frame.DataFrame'>\n",
      "Index: 17981 entries, Cristiano Ronaldo to L. Sackey\n",
      "Data columns (total 39 columns):\n",
      " #   Column                    Non-Null Count  Dtype \n",
      "---  ------                    --------------  ----- \n",
      " 0   Age                       17981 non-null  int64 \n",
      " 1   Nationality               17981 non-null  object\n",
      " 2   Overall                   17981 non-null  int64 \n",
      " 3   Acceleration              17981 non-null  object\n",
      " 4   Aggression                17981 non-null  object\n",
      " 5   Agility                   17981 non-null  object\n",
      " 6   Balance                   17981 non-null  object\n",
      " 7   Ball control              17981 non-null  object\n",
      " 8   Composure                 17981 non-null  object\n",
      " 9   Crossing                  17981 non-null  object\n",
      " 10  Curve                     17981 non-null  object\n",
      " 11  Dribbling                 17981 non-null  object\n",
      " 12  Finishing                 17981 non-null  object\n",
      " 13  Free kick accuracy        17981 non-null  object\n",
      " 14  GK diving                 17981 non-null  object\n",
      " 15  GK handling               17981 non-null  object\n",
      " 16  GK kicking                17981 non-null  object\n",
      " 17  GK positioning            17981 non-null  object\n",
      " 18  GK reflexes               17981 non-null  object\n",
      " 19  Heading accuracy          17981 non-null  object\n",
      " 20  Interceptions             17981 non-null  object\n",
      " 21  Jumping                   17981 non-null  object\n",
      " 22  Long passing              17981 non-null  object\n",
      " 23  Long shots                17981 non-null  object\n",
      " 24  Marking                   17981 non-null  object\n",
      " 25  Penalties                 17981 non-null  object\n",
      " 26  Positioning               17981 non-null  object\n",
      " 27  Reactions                 17981 non-null  object\n",
      " 28  Short passing             17981 non-null  object\n",
      " 29  Shot power                17981 non-null  object\n",
      " 30  Sliding tackle            17981 non-null  object\n",
      " 31  Sprint speed              17981 non-null  object\n",
      " 32  Stamina                   17981 non-null  object\n",
      " 33  Standing tackle           17981 non-null  object\n",
      " 34  Strength                  17981 non-null  object\n",
      " 35  Vision                    17981 non-null  object\n",
      " 36  Volleys                   17981 non-null  object\n",
      " 37  Preferred Positions       17981 non-null  object\n",
      " 38  Preferred Positions Type  17981 non-null  object\n",
      "dtypes: int64(2), object(37)\n",
      "memory usage: 5.5+ MB\n"
     ]
    }
   ],
   "source": [
    "df.info()"
   ]
  },
  {
   "cell_type": "markdown",
   "metadata": {},
   "source": [
    "As we can see, most of the number columns (attributes) are stored as strings (objects).\n",
    "\n",
    "We will create a function that:\n",
    "- Transforms all the supposedly **numeric columns to a float**.\n",
    "- For the string-number columns, we will only select and **transform the first two digits** before the comma."
   ]
  },
  {
   "cell_type": "code",
   "execution_count": 15,
   "metadata": {},
   "outputs": [],
   "source": [
    "# Select all numeric attribute columns, i.e. excluding \"word-type\" columns such as Nationality.\n",
    "cols = ['Overall', 'Acceleration', 'Aggression',\n",
    "       'Agility', 'Balance', 'Ball control', 'Composure', 'Crossing', 'Curve',\n",
    "       'Dribbling', 'Finishing', 'Free kick accuracy', 'GK diving',\n",
    "       'GK handling', 'GK kicking', 'GK positioning', 'GK reflexes',\n",
    "       'Heading accuracy', 'Interceptions', 'Jumping', 'Long passing',\n",
    "       'Long shots', 'Marking', 'Penalties', 'Positioning', 'Reactions',\n",
    "       'Short passing', 'Shot power', 'Sliding tackle', 'Sprint speed',\n",
    "       'Stamina', 'Standing tackle', 'Strength', 'Vision', 'Volleys']"
   ]
  },
  {
   "cell_type": "code",
   "execution_count": 16,
   "metadata": {},
   "outputs": [],
   "source": [
    "# Create function.\n",
    "def to_float(x):    \n",
    "    \"Transforms numeric attribute columns to type float\"\n",
    "    \n",
    "    if type(x) is int:\n",
    "        return float(x)\n",
    "    else:\n",
    "        return float(x[0:2])"
   ]
  },
  {
   "cell_type": "code",
   "execution_count": 17,
   "metadata": {},
   "outputs": [],
   "source": [
    "# Use the map() function to transform all selected columns.\n",
    "df[cols] = df[cols].map(to_float)"
   ]
  },
  {
   "cell_type": "markdown",
   "metadata": {},
   "source": [
    "Now let's look at the data types of the columns:"
   ]
  },
  {
   "cell_type": "code",
   "execution_count": 18,
   "metadata": {},
   "outputs": [
    {
     "name": "stdout",
     "output_type": "stream",
     "text": [
      "<class 'pandas.core.frame.DataFrame'>\n",
      "Index: 17981 entries, Cristiano Ronaldo to L. Sackey\n",
      "Data columns (total 39 columns):\n",
      " #   Column                    Non-Null Count  Dtype  \n",
      "---  ------                    --------------  -----  \n",
      " 0   Age                       17981 non-null  int64  \n",
      " 1   Nationality               17981 non-null  object \n",
      " 2   Overall                   17981 non-null  float64\n",
      " 3   Acceleration              17981 non-null  float64\n",
      " 4   Aggression                17981 non-null  float64\n",
      " 5   Agility                   17981 non-null  float64\n",
      " 6   Balance                   17981 non-null  float64\n",
      " 7   Ball control              17981 non-null  float64\n",
      " 8   Composure                 17981 non-null  float64\n",
      " 9   Crossing                  17981 non-null  float64\n",
      " 10  Curve                     17981 non-null  float64\n",
      " 11  Dribbling                 17981 non-null  float64\n",
      " 12  Finishing                 17981 non-null  float64\n",
      " 13  Free kick accuracy        17981 non-null  float64\n",
      " 14  GK diving                 17981 non-null  float64\n",
      " 15  GK handling               17981 non-null  float64\n",
      " 16  GK kicking                17981 non-null  float64\n",
      " 17  GK positioning            17981 non-null  float64\n",
      " 18  GK reflexes               17981 non-null  float64\n",
      " 19  Heading accuracy          17981 non-null  float64\n",
      " 20  Interceptions             17981 non-null  float64\n",
      " 21  Jumping                   17981 non-null  float64\n",
      " 22  Long passing              17981 non-null  float64\n",
      " 23  Long shots                17981 non-null  float64\n",
      " 24  Marking                   17981 non-null  float64\n",
      " 25  Penalties                 17981 non-null  float64\n",
      " 26  Positioning               17981 non-null  float64\n",
      " 27  Reactions                 17981 non-null  float64\n",
      " 28  Short passing             17981 non-null  float64\n",
      " 29  Shot power                17981 non-null  float64\n",
      " 30  Sliding tackle            17981 non-null  float64\n",
      " 31  Sprint speed              17981 non-null  float64\n",
      " 32  Stamina                   17981 non-null  float64\n",
      " 33  Standing tackle           17981 non-null  float64\n",
      " 34  Strength                  17981 non-null  float64\n",
      " 35  Vision                    17981 non-null  float64\n",
      " 36  Volleys                   17981 non-null  float64\n",
      " 37  Preferred Positions       17981 non-null  object \n",
      " 38  Preferred Positions Type  17981 non-null  object \n",
      "dtypes: float64(35), int64(1), object(3)\n",
      "memory usage: 5.5+ MB\n"
     ]
    }
   ],
   "source": [
    "df.info()"
   ]
  },
  {
   "cell_type": "markdown",
   "metadata": {},
   "source": [
    "We can see that the columns have been transformed to the `float` type successfully."
   ]
  },
  {
   "cell_type": "markdown",
   "metadata": {},
   "source": [
    "#  \n",
    "\n",
    "<div align=\"center\" style=\" font-size: 80%; text-align: center; margin: 0 auto\">\n",
    "<img src=\"https://raw.githubusercontent.com/Explore-AI/Pictures/refs/heads/master/ALX_banners/ALX_Navy.png\"  style=\"width:140px\";/>\n",
    "</div>"
   ]
  }
 ],
 "metadata": {
  "kernelspec": {
   "display_name": "Python 3",
   "language": "python",
   "name": "python3"
  },
  "language_info": {
   "codemirror_mode": {
    "name": "ipython",
    "version": 3
   },
   "file_extension": ".py",
   "mimetype": "text/x-python",
   "name": "python",
   "nbconvert_exporter": "python",
   "pygments_lexer": "ipython3",
   "version": "3.12.11"
  }
 },
 "nbformat": 4,
 "nbformat_minor": 4
}
