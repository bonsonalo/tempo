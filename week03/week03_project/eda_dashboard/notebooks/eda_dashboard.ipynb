{
 "cells": [
  {
   "cell_type": "code",
   "execution_count": 3,
   "id": "012725e1",
   "metadata": {},
   "outputs": [],
   "source": [
    "import numpy as np\n",
    "import pandas as pd\n",
    "import seaborn as sns\n",
    "import logging\n",
    "import matplotlib.pyplot as plt"
   ]
  },
  {
   "cell_type": "code",
   "execution_count": 4,
   "id": "556ebe80",
   "metadata": {},
   "outputs": [],
   "source": [
    "import sys\n",
    "import os\n",
    "\n",
    "# Go up one directory from notebooks/ → project root\n",
    "PROJECT_ROOT = os.path.abspath(\"..\")\n",
    "\n",
    "# Build path to the CSV\n",
    "data_path = os.path.join(PROJECT_ROOT, \"data\", \"raw\", \"AmesHousing.csv\")\n",
    "\n",
    "# SRC_PATH is a variable assigned to the location of src\n",
    "SRC_PATH = os.path.join(PROJECT_ROOT, \"src\")\n",
    "# Add src/ to sys.path (so Python knows where to look)\n",
    "sys.path.append(SRC_PATH)\n",
    "\n",
    "\n"
   ]
  },
  {
   "cell_type": "code",
   "execution_count": 5,
   "id": "51d9e760",
   "metadata": {},
   "outputs": [
    {
     "name": "stdout",
     "output_type": "stream",
     "text": [
      "   Order        PID  MS SubClass MS Zoning  Lot Frontage  Lot Area Street  \\\n",
      "0      1  526301100           20        RL         141.0     31770   Pave   \n",
      "1      2  526350040           20        RH          80.0     11622   Pave   \n",
      "2      3  526351010           20        RL          81.0     14267   Pave   \n",
      "3      4  526353030           20        RL          93.0     11160   Pave   \n",
      "4      5  527105010           60        RL          74.0     13830   Pave   \n",
      "\n",
      "  Alley Lot Shape Land Contour  ... Pool Area Pool QC  Fence Misc Feature  \\\n",
      "0   NaN       IR1          Lvl  ...         0     NaN    NaN          NaN   \n",
      "1   NaN       Reg          Lvl  ...         0     NaN  MnPrv          NaN   \n",
      "2   NaN       IR1          Lvl  ...         0     NaN    NaN         Gar2   \n",
      "3   NaN       Reg          Lvl  ...         0     NaN    NaN          NaN   \n",
      "4   NaN       IR1          Lvl  ...         0     NaN  MnPrv          NaN   \n",
      "\n",
      "  Misc Val Mo Sold Yr Sold Sale Type  Sale Condition  SalePrice  \n",
      "0        0       5    2010       WD           Normal     215000  \n",
      "1        0       6    2010       WD           Normal     105000  \n",
      "2    12500       6    2010       WD           Normal     172000  \n",
      "3        0       4    2010       WD           Normal     244000  \n",
      "4        0       3    2010       WD           Normal     189900  \n",
      "\n",
      "[5 rows x 82 columns]\n"
     ]
    }
   ],
   "source": [
    "# from file_utils import load_data\n",
    "from file_utils import load_data, missing_values_report\n",
    "\n",
    "\n",
    "# Load data\n",
    "data = load_data(data_path)\n",
    "print(data.head())\n",
    "logging.info(\"Dataset loaded successfully\")\n"
   ]
  },
  {
   "cell_type": "code",
   "execution_count": 6,
   "id": "1faf2e19",
   "metadata": {},
   "outputs": [
    {
     "data": {
      "text/plain": [
       "['LOG_DIR',\n",
       " 'PROJECT_ROOT',\n",
       " '__builtins__',\n",
       " '__cached__',\n",
       " '__doc__',\n",
       " '__file__',\n",
       " '__loader__',\n",
       " '__name__',\n",
       " '__package__',\n",
       " '__spec__',\n",
       " 'check_duplicates',\n",
       " 'load_data',\n",
       " 'logging',\n",
       " 'missing_values_report',\n",
       " 'np',\n",
       " 'os',\n",
       " 'pd']"
      ]
     },
     "execution_count": 6,
     "metadata": {},
     "output_type": "execute_result"
    }
   ],
   "source": [
    "import file_utils\n",
    "dir(file_utils)\n"
   ]
  },
  {
   "cell_type": "code",
   "execution_count": 9,
   "id": "f4bc1f6b",
   "metadata": {},
   "outputs": [
    {
     "data": {
      "text/plain": [
       "(2930, 82)"
      ]
     },
     "execution_count": 9,
     "metadata": {},
     "output_type": "execute_result"
    }
   ],
   "source": [
    "data.shape"
   ]
  },
  {
   "cell_type": "code",
   "execution_count": 10,
   "id": "f3bb3c72",
   "metadata": {},
   "outputs": [
    {
     "data": {
      "text/plain": [
       "Index(['Order', 'PID', 'MS SubClass', 'MS Zoning', 'Lot Frontage', 'Lot Area',\n",
       "       'Street', 'Alley', 'Lot Shape', 'Land Contour', 'Utilities',\n",
       "       'Lot Config', 'Land Slope', 'Neighborhood', 'Condition 1',\n",
       "       'Condition 2', 'Bldg Type', 'House Style', 'Overall Qual',\n",
       "       'Overall Cond', 'Year Built', 'Year Remod/Add', 'Roof Style',\n",
       "       'Roof Matl', 'Exterior 1st', 'Exterior 2nd', 'Mas Vnr Type',\n",
       "       'Mas Vnr Area', 'Exter Qual', 'Exter Cond', 'Foundation', 'Bsmt Qual',\n",
       "       'Bsmt Cond', 'Bsmt Exposure', 'BsmtFin Type 1', 'BsmtFin SF 1',\n",
       "       'BsmtFin Type 2', 'BsmtFin SF 2', 'Bsmt Unf SF', 'Total Bsmt SF',\n",
       "       'Heating', 'Heating QC', 'Central Air', 'Electrical', '1st Flr SF',\n",
       "       '2nd Flr SF', 'Low Qual Fin SF', 'Gr Liv Area', 'Bsmt Full Bath',\n",
       "       'Bsmt Half Bath', 'Full Bath', 'Half Bath', 'Bedroom AbvGr',\n",
       "       'Kitchen AbvGr', 'Kitchen Qual', 'TotRms AbvGrd', 'Functional',\n",
       "       'Fireplaces', 'Fireplace Qu', 'Garage Type', 'Garage Yr Blt',\n",
       "       'Garage Finish', 'Garage Cars', 'Garage Area', 'Garage Qual',\n",
       "       'Garage Cond', 'Paved Drive', 'Wood Deck SF', 'Open Porch SF',\n",
       "       'Enclosed Porch', '3Ssn Porch', 'Screen Porch', 'Pool Area', 'Pool QC',\n",
       "       'Fence', 'Misc Feature', 'Misc Val', 'Mo Sold', 'Yr Sold', 'Sale Type',\n",
       "       'Sale Condition', 'SalePrice'],\n",
       "      dtype='object')"
      ]
     },
     "execution_count": 10,
     "metadata": {},
     "output_type": "execute_result"
    }
   ],
   "source": [
    "data.columns"
   ]
  },
  {
   "cell_type": "code",
   "execution_count": 7,
   "id": "bc4d7058",
   "metadata": {},
   "outputs": [
    {
     "data": {
      "text/plain": [
       "Order               int64\n",
       "PID                 int64\n",
       "MS SubClass         int64\n",
       "MS Zoning          object\n",
       "Lot Frontage      float64\n",
       "                   ...   \n",
       "Mo Sold             int64\n",
       "Yr Sold             int64\n",
       "Sale Type          object\n",
       "Sale Condition     object\n",
       "SalePrice           int64\n",
       "Length: 82, dtype: object"
      ]
     },
     "execution_count": 7,
     "metadata": {},
     "output_type": "execute_result"
    }
   ],
   "source": [
    "data.dtypes"
   ]
  },
  {
   "cell_type": "code",
   "execution_count": 8,
   "id": "2b225761",
   "metadata": {},
   "outputs": [
    {
     "data": {
      "text/plain": [
       "7251298"
      ]
     },
     "execution_count": 8,
     "metadata": {},
     "output_type": "execute_result"
    }
   ],
   "source": [
    "data.memory_usage(deep=True).sum()"
   ]
  },
  {
   "cell_type": "markdown",
   "id": "ab64f569",
   "metadata": {},
   "source": [
    "# missing values report"
   ]
  },
  {
   "cell_type": "code",
   "execution_count": 11,
   "id": "7d6becc1",
   "metadata": {},
   "outputs": [
    {
     "data": {
      "text/html": [
       "<div>\n",
       "<style scoped>\n",
       "    .dataframe tbody tr th:only-of-type {\n",
       "        vertical-align: middle;\n",
       "    }\n",
       "\n",
       "    .dataframe tbody tr th {\n",
       "        vertical-align: top;\n",
       "    }\n",
       "\n",
       "    .dataframe thead th {\n",
       "        text-align: right;\n",
       "    }\n",
       "</style>\n",
       "<table border=\"1\" class=\"dataframe\">\n",
       "  <thead>\n",
       "    <tr style=\"text-align: right;\">\n",
       "      <th></th>\n",
       "      <th>n_missing</th>\n",
       "      <th>pct_missing</th>\n",
       "      <th>dtype</th>\n",
       "      <th>n_unique</th>\n",
       "    </tr>\n",
       "  </thead>\n",
       "  <tbody>\n",
       "    <tr>\n",
       "      <th>Pool QC</th>\n",
       "      <td>2917</td>\n",
       "      <td>3557.317</td>\n",
       "      <td>object</td>\n",
       "      <td>4</td>\n",
       "    </tr>\n",
       "    <tr>\n",
       "      <th>Misc Feature</th>\n",
       "      <td>2824</td>\n",
       "      <td>3443.902</td>\n",
       "      <td>object</td>\n",
       "      <td>5</td>\n",
       "    </tr>\n",
       "    <tr>\n",
       "      <th>Alley</th>\n",
       "      <td>2732</td>\n",
       "      <td>3331.707</td>\n",
       "      <td>object</td>\n",
       "      <td>2</td>\n",
       "    </tr>\n",
       "    <tr>\n",
       "      <th>Fence</th>\n",
       "      <td>2358</td>\n",
       "      <td>2875.610</td>\n",
       "      <td>object</td>\n",
       "      <td>4</td>\n",
       "    </tr>\n",
       "    <tr>\n",
       "      <th>Mas Vnr Type</th>\n",
       "      <td>1775</td>\n",
       "      <td>2164.634</td>\n",
       "      <td>object</td>\n",
       "      <td>4</td>\n",
       "    </tr>\n",
       "    <tr>\n",
       "      <th>Fireplace Qu</th>\n",
       "      <td>1422</td>\n",
       "      <td>1734.146</td>\n",
       "      <td>object</td>\n",
       "      <td>5</td>\n",
       "    </tr>\n",
       "    <tr>\n",
       "      <th>Lot Frontage</th>\n",
       "      <td>490</td>\n",
       "      <td>597.561</td>\n",
       "      <td>float64</td>\n",
       "      <td>128</td>\n",
       "    </tr>\n",
       "    <tr>\n",
       "      <th>Garage Cond</th>\n",
       "      <td>159</td>\n",
       "      <td>193.902</td>\n",
       "      <td>object</td>\n",
       "      <td>5</td>\n",
       "    </tr>\n",
       "    <tr>\n",
       "      <th>Garage Finish</th>\n",
       "      <td>159</td>\n",
       "      <td>193.902</td>\n",
       "      <td>object</td>\n",
       "      <td>3</td>\n",
       "    </tr>\n",
       "    <tr>\n",
       "      <th>Garage Yr Blt</th>\n",
       "      <td>159</td>\n",
       "      <td>193.902</td>\n",
       "      <td>float64</td>\n",
       "      <td>103</td>\n",
       "    </tr>\n",
       "    <tr>\n",
       "      <th>Garage Qual</th>\n",
       "      <td>159</td>\n",
       "      <td>193.902</td>\n",
       "      <td>object</td>\n",
       "      <td>5</td>\n",
       "    </tr>\n",
       "    <tr>\n",
       "      <th>Garage Type</th>\n",
       "      <td>157</td>\n",
       "      <td>191.463</td>\n",
       "      <td>object</td>\n",
       "      <td>6</td>\n",
       "    </tr>\n",
       "    <tr>\n",
       "      <th>Bsmt Exposure</th>\n",
       "      <td>83</td>\n",
       "      <td>101.220</td>\n",
       "      <td>object</td>\n",
       "      <td>4</td>\n",
       "    </tr>\n",
       "    <tr>\n",
       "      <th>BsmtFin Type 2</th>\n",
       "      <td>81</td>\n",
       "      <td>98.780</td>\n",
       "      <td>object</td>\n",
       "      <td>6</td>\n",
       "    </tr>\n",
       "    <tr>\n",
       "      <th>Bsmt Qual</th>\n",
       "      <td>80</td>\n",
       "      <td>97.561</td>\n",
       "      <td>object</td>\n",
       "      <td>5</td>\n",
       "    </tr>\n",
       "    <tr>\n",
       "      <th>Bsmt Cond</th>\n",
       "      <td>80</td>\n",
       "      <td>97.561</td>\n",
       "      <td>object</td>\n",
       "      <td>5</td>\n",
       "    </tr>\n",
       "    <tr>\n",
       "      <th>BsmtFin Type 1</th>\n",
       "      <td>80</td>\n",
       "      <td>97.561</td>\n",
       "      <td>object</td>\n",
       "      <td>6</td>\n",
       "    </tr>\n",
       "    <tr>\n",
       "      <th>Mas Vnr Area</th>\n",
       "      <td>23</td>\n",
       "      <td>28.049</td>\n",
       "      <td>float64</td>\n",
       "      <td>445</td>\n",
       "    </tr>\n",
       "    <tr>\n",
       "      <th>Bsmt Full Bath</th>\n",
       "      <td>2</td>\n",
       "      <td>2.439</td>\n",
       "      <td>float64</td>\n",
       "      <td>4</td>\n",
       "    </tr>\n",
       "    <tr>\n",
       "      <th>Bsmt Half Bath</th>\n",
       "      <td>2</td>\n",
       "      <td>2.439</td>\n",
       "      <td>float64</td>\n",
       "      <td>3</td>\n",
       "    </tr>\n",
       "  </tbody>\n",
       "</table>\n",
       "</div>"
      ],
      "text/plain": [
       "                n_missing  pct_missing    dtype  n_unique\n",
       "Pool QC              2917     3557.317   object         4\n",
       "Misc Feature         2824     3443.902   object         5\n",
       "Alley                2732     3331.707   object         2\n",
       "Fence                2358     2875.610   object         4\n",
       "Mas Vnr Type         1775     2164.634   object         4\n",
       "Fireplace Qu         1422     1734.146   object         5\n",
       "Lot Frontage          490      597.561  float64       128\n",
       "Garage Cond           159      193.902   object         5\n",
       "Garage Finish         159      193.902   object         3\n",
       "Garage Yr Blt         159      193.902  float64       103\n",
       "Garage Qual           159      193.902   object         5\n",
       "Garage Type           157      191.463   object         6\n",
       "Bsmt Exposure          83      101.220   object         4\n",
       "BsmtFin Type 2         81       98.780   object         6\n",
       "Bsmt Qual              80       97.561   object         5\n",
       "Bsmt Cond              80       97.561   object         5\n",
       "BsmtFin Type 1         80       97.561   object         6\n",
       "Mas Vnr Area           23       28.049  float64       445\n",
       "Bsmt Full Bath          2        2.439  float64         4\n",
       "Bsmt Half Bath          2        2.439  float64         3"
      ]
     },
     "execution_count": 11,
     "metadata": {},
     "output_type": "execute_result"
    }
   ],
   "source": [
    "# Step 1: Count missing values per column\n",
    "missing = data.isna().sum().rename(\"n_missing\").to_frame()\n",
    "# Step 2: Add percentage of missing values\n",
    "missing[\"pct_missing\"] = (missing[\"n_missing\"] / len(missing) * 100).round(3)\n",
    "# Step 3: Add column data types\n",
    "missing[\"dtype\"] = data.dtypes\n",
    "# Step 4: Add number of unique values\n",
    "missing[\"n_unique\"] = data.nunique(dropna=True)\n",
    "# Step 5: Sort by missing percentage\n",
    "missing_sorted = missing.sort_values(\"pct_missing\", ascending=False)\n",
    "# Step 6: Show the top 20\n",
    "missing_sorted.head(20)"
   ]
  },
  {
   "cell_type": "code",
   "execution_count": 12,
   "id": "63ee57b0",
   "metadata": {},
   "outputs": [
    {
     "name": "stdout",
     "output_type": "stream",
     "text": [
      "[nan 'Pave' 'Grvl']\n",
      "['Gd' nan 'TA' 'Po' 'Ex' 'Fa']\n",
      "[nan 'Ex' 'Gd' 'TA' 'Fa']\n"
     ]
    }
   ],
   "source": [
    "print(data[\"Alley\"].unique())\n",
    "print(data[\"Fireplace Qu\"].unique())\n",
    "print(data[\"Pool QC\"].unique())"
   ]
  },
  {
   "cell_type": "markdown",
   "id": "8e906dc8",
   "metadata": {},
   "source": [
    "#  categorical profiling report"
   ]
  },
  {
   "cell_type": "code",
   "execution_count": 7,
   "id": "fc8e232a",
   "metadata": {},
   "outputs": [
    {
     "name": "stdout",
     "output_type": "stream",
     "text": [
      "        columns  n_missing  pct_missing  n_unique  \\\n",
      "0     MS Zoning          0        0.000         7   \n",
      "1        Street          0        0.000         2   \n",
      "2         Alley       2732       93.242         2   \n",
      "3     Lot Shape          0        0.000         4   \n",
      "4  Land Contour          0        0.000         4   \n",
      "\n",
      "                                    categories  \n",
      "0  [RL, RH, FV, RM, C (all), I (all), A (agr)]  \n",
      "1                                 [Pave, Grvl]  \n",
      "2                            [nan, Pave, Grvl]  \n",
      "3                         [IR1, Reg, IR2, IR3]  \n",
      "4                         [Lvl, HLS, Bnk, Low]  \n"
     ]
    }
   ],
   "source": [
    "categorical_cols = [col for col in data.columns if data[col].dtypes == \"object\"]\n",
    "\n",
    "summary = []\n",
    "\n",
    "for col in categorical_cols:\n",
    "    n_missing = data[col].isna().sum()\n",
    "    pct_missing = round(n_missing / len(data[col]) * 100, 3)\n",
    "    n_unique = data[col].nunique()\n",
    "    categories = data[col].unique()\n",
    "\n",
    "    summary.append(\n",
    "        {\n",
    "            \"columns\": col,\n",
    "            \"n_missing\": n_missing,\n",
    "            \"pct_missing\": pct_missing,\n",
    "            \"n_unique\": n_unique,\n",
    "            \"categories\": categories\n",
    "        }\n",
    "    )\n",
    "\n",
    "final = pd.DataFrame(summary).head(5)\n",
    "print(final)"
   ]
  },
  {
   "cell_type": "markdown",
   "id": "4ff7de8a",
   "metadata": {},
   "source": [
    "# numerical profiling report"
   ]
  },
  {
   "cell_type": "code",
   "execution_count": 8,
   "id": "91ba706b",
   "metadata": {},
   "outputs": [
    {
     "name": "stdout",
     "output_type": "stream",
     "text": [
      "         column  stat_n_missing  stat_pct_missing          mean       median  \\\n",
      "0         Order               0             0.000  1.465500e+03       1465.5   \n",
      "1           PID               0             0.000  7.144645e+08  535453620.0   \n",
      "2   MS SubClass               0             0.000  5.738737e+01         50.0   \n",
      "3  Lot Frontage             490            16.724  6.922459e+01         68.0   \n",
      "4      Lot Area               0             0.000  1.014792e+04       9436.5   \n",
      "\n",
      "            std          min           max   quartile_25  quartile_50  \\\n",
      "0  8.459625e+02          1.0  2.930000e+03  7.332500e+02       1465.5   \n",
      "1  1.887308e+08  526301100.0  1.007100e+09  5.284770e+08  535453620.0   \n",
      "2  4.263802e+01         20.0  1.900000e+02  2.000000e+01         50.0   \n",
      "3  2.336533e+01         21.0  3.130000e+02  5.800000e+01         68.0   \n",
      "4  7.880018e+03       1300.0  2.152450e+05  7.440250e+03       9436.5   \n",
      "\n",
      "    quartile_75  n_unique  \n",
      "0  2.197750e+03      2930  \n",
      "1  9.071811e+08      2930  \n",
      "2  7.000000e+01        16  \n",
      "3  8.000000e+01       128  \n",
      "4  1.155525e+04      1960  \n"
     ]
    }
   ],
   "source": [
    "# the below also possble but we will use pandas method after the below\n",
    "# stat_col = [scol for scol in data.columns if data[scol].dtypes in (\"int64\", \"float64\")]\n",
    "\n",
    "#using method in pandas\n",
    "\n",
    "stats_col = data.select_dtypes(include=[\"int\", \"float\"])\n",
    "\n",
    "pre_final = []\n",
    "\n",
    "for i in stats_col:\n",
    "    n_missings = data[i].isna().sum()\n",
    "    pct_missings = round(n_missings/ len(data[i]) * 100, 3)\n",
    "    mean = data[i].mean()\n",
    "    median = data[i].median()\n",
    "    std = data[i].std()\n",
    "    mins = data[i].min()\n",
    "    maxs = data[i].max()\n",
    "    Q1 = data[i].quantile(0.25)\n",
    "    Q2 = data[i].quantile(0.50)\n",
    "    Q3 = data[i].quantile(0.75)\n",
    "    unique_n = data[i].nunique()\n",
    "\n",
    "    pre_final.append(\n",
    "        {\n",
    "            \"column\": i,\n",
    "            \"stat_n_missing\" : n_missings,\n",
    "            \"stat_pct_missing\" : pct_missings,\n",
    "            \"mean\": mean,\n",
    "            \"median\" : median,\n",
    "            \"std\": std,\n",
    "            \"min\": mins,\n",
    "            \"max\": maxs,\n",
    "            \"quartile_25\": Q1,\n",
    "            \"quartile_50\": Q2,\n",
    "            \"quartile_75\": Q3,\n",
    "            \"n_unique\": unique_n\n",
    "        }\n",
    "    )\n",
    "\n",
    "final = pd.DataFrame(pre_final)\n",
    "print(final.head(5))"
   ]
  },
  {
   "cell_type": "code",
   "execution_count": 9,
   "id": "41adf54d",
   "metadata": {},
   "outputs": [
    {
     "name": "stderr",
     "output_type": "stream",
     "text": [
      "/home/bonson/Desktop/mljourney/tempo/week03/week03_project/eda_dashboard/fvenv/lib/python3.12/site-packages/tqdm/auto.py:21: TqdmWarning: IProgress not found. Please update jupyter and ipywidgets. See https://ipywidgets.readthedocs.io/en/stable/user_install.html\n",
      "  from .autonotebook import tqdm as notebook_tqdm\n"
     ]
    }
   ],
   "source": [
    "# a tool that helps us automate the profiling stage. the missing values, Data quality\n",
    "import sweetviz as sv"
   ]
  },
  {
   "cell_type": "code",
   "execution_count": 17,
   "id": "952962ec",
   "metadata": {},
   "outputs": [
    {
     "name": "stderr",
     "output_type": "stream",
     "text": [
      "Done! Use 'show' commands to display/save.   |██████████| [100%]   00:04 -> (00:00 left)"
     ]
    },
    {
     "name": "stdout",
     "output_type": "stream",
     "text": [
      "Report analyze.html was generated! NOTEBOOK/COLAB USERS: the web browser MAY not pop up, regardless, the report IS saved in your notebook/colab files.\n"
     ]
    },
    {
     "name": "stderr",
     "output_type": "stream",
     "text": [
      "\n"
     ]
    },
    {
     "name": "stdout",
     "output_type": "stream",
     "text": [
      "Opening in existing browser session.\n"
     ]
    }
   ],
   "source": [
    "analyze_report = sv.analyze(data)\n",
    "analyze_report.show_html(\"analyze.html\", open_browser=True)"
   ]
  },
  {
   "cell_type": "code",
   "execution_count": 19,
   "id": "5925ef4c",
   "metadata": {},
   "outputs": [],
   "source": [
    "# import IPython\n",
    "# IPython.display.HTML(\"analyze.html\")"
   ]
  },
  {
   "cell_type": "code",
   "execution_count": null,
   "id": "749ab044",
   "metadata": {},
   "outputs": [
    {
     "data": {
      "text/html": [
       "\n",
       "            <div>\n",
       "                <ins><a href=\"https://ydata.ai/register\">Upgrade to ydata-sdk</a></ins>\n",
       "                <p>\n",
       "                    Improve your data and profiling with ydata-sdk, featuring data quality scoring, redundancy detection, outlier identification, text validation, and synthetic data generation.\n",
       "                </p>\n",
       "            </div>\n",
       "            "
      ],
      "text/plain": [
       "<IPython.core.display.HTML object>"
      ]
     },
     "metadata": {},
     "output_type": "display_data"
    },
    {
     "name": "stderr",
     "output_type": "stream",
     "text": [
      "100%|██████████| 82/82 [00:01<00:00, 53.31it/s]2<00:00, 12.69it/s, Describe variable: SalePrice]      \n",
      "Summarize dataset: 100%|██████████| 1116/1116 [01:28<00:00, 12.58it/s, Completed]                              \n",
      "Generate report structure: 100%|██████████| 1/1 [00:10<00:00, 10.46s/it]\n",
      "Render HTML: 100%|██████████| 1/1 [00:10<00:00, 10.37s/it]\n",
      "Export report to file: 100%|██████████| 1/1 [00:00<00:00,  8.23it/s]\n"
     ]
    }
   ],
   "source": [
    "# To automate the profiling step. the missing value, duplicates, stats values\n",
    "\n",
    "from ydata_profiling import ProfileReport\n",
    "\n",
    "profile = ProfileReport(data, title=\"Pandas Profiling Report\", explorative=True)\n",
    "profile.to_file(\"profile.html\")\n"
   ]
  },
  {
   "cell_type": "code",
   "execution_count": null,
   "id": "e2f5ab07",
   "metadata": {},
   "outputs": [
    {
     "data": {
      "text/plain": [
       "True"
      ]
     },
     "execution_count": 22,
     "metadata": {},
     "output_type": "execute_result"
    },
    {
     "name": "stderr",
     "output_type": "stream",
     "text": [
      "Gtk-Message: 18:47:50.333: Not loading module \"atk-bridge\": The functionality is provided by GTK natively. Please try to not load it.\n",
      "Gtk-Message: 18:47:50.490: Failed to load module \"canberra-gtk-module\"\n",
      "Gtk-Message: 18:47:50.493: Failed to load module \"canberra-gtk-module\"\n",
      "[84235:84235:0904/184750.613412:ERROR:dbus/object_proxy.cc:590] Failed to call method: org.freedesktop.Secret.Service.ReadAlias: object_path= /org/freedesktop/secrets: org.freedesktop.DBus.Error.AccessDenied: An AppArmor policy prevents this sender from sending this message to this recipient; type=\"method_call\", sender=\":1.2602\" (uid=1000 pid=84235 comm=\"/snap/brave/539/opt/brave.com/brave/brave /home/bo\" label=\"snap.brave.brave (enforce)\") interface=\"org.freedesktop.Secret.Service\" member=\"ReadAlias\" error name=\"(unset)\" requested_reply=\"0\" destination=\"org.freedesktop.secrets\" (uid=1000 pid=2981 comm=\"/usr/bin/gnome-keyring-daemon --foreground --compo\" label=\"unconfined\")\n",
      "[84235:84235:0904/184750.625044:ERROR:../src/chrome/browser/profiles/delete_profile_helper.cc:262] Found invalid profile path in deleted_profiles: /home/bonson/snap/brave/533/.config/BraveSoftware/Brave-Browser/Profile 3\n",
      "[0904/184750.628842:ERROR:third_party/crashpad/crashpad/util/linux/ptracer.cc:605] ptrace: Input/output error (5)\n",
      "[0904/184750.630126:ERROR:third_party/crashpad/crashpad/util/linux/ptracer.cc:605] ptrace: Input/output error (5)\n",
      "[0904/184750.630478:ERROR:third_party/crashpad/crashpad/util/linux/ptracer.cc:605] ptrace: Input/output error (5)\n",
      "[0904/184750.630692:ERROR:third_party/crashpad/crashpad/util/linux/ptracer.cc:605] ptrace: Input/output error (5)\n",
      "[0904/184750.669998:ERROR:third_party/crashpad/crashpad/snapshot/elf/elf_dynamic_array_reader.h:64] tag not found\n",
      "[0904/184750.683997:ERROR:third_party/crashpad/crashpad/snapshot/elf/elf_dynamic_array_reader.h:64] tag not found\n",
      "[0904/184750.727262:ERROR:third_party/crashpad/crashpad/util/file/directory_reader_posix.cc:43] opendir /home/bonson/snap/brave/539/.config/BraveSoftware/Brave-Browser/Crash Reports/attachments/0d7ac6f6-0898-416a-9f0d-c8b4a40279f4: No such file or directory (2)\n",
      "[84286:84286:0904/184752.914702:ERROR:ui/gl/gl_surface_presentation_helper.cc:260] GetVSyncParametersIfAvailable() failed for 1 times!\n",
      "[84286:84286:0904/184752.941096:ERROR:ui/gl/gl_surface_presentation_helper.cc:260] GetVSyncParametersIfAvailable() failed for 2 times!\n",
      "[84286:84286:0904/184752.947608:ERROR:ui/gl/gl_surface_presentation_helper.cc:260] GetVSyncParametersIfAvailable() failed for 3 times!\n",
      "[84300:84315:0904/184800.761831:ERROR:../src/net/socket/ssl_client_socket_impl.cc:914] handshake failed; returned -1, SSL error code 1, net_error -101\n",
      "[84300:84315:0904/184800.864756:ERROR:../src/net/socket/ssl_client_socket_impl.cc:914] handshake failed; returned -1, SSL error code 1, net_error -101\n",
      "[84300:84315:0904/184810.900914:ERROR:../src/net/socket/ssl_client_socket_impl.cc:914] handshake failed; returned -1, SSL error code 1, net_error -101\n",
      "[84300:84315:0904/184825.528845:ERROR:../src/net/socket/ssl_client_socket_impl.cc:914] handshake failed; returned -1, SSL error code 1, net_error -101\n",
      "[84660:1:0904/185200.331600:ERROR:third_party/blink/renderer/core/fetch/form_data_bytes_consumer.cc:204] DrainAsBlobDataHandle\n"
     ]
    }
   ],
   "source": [
    "# we import webbrowser to display the html created by ydata_profiling\n",
    "import webbrowser\n",
    "webbrowser.open(\"profile.html\")\n"
   ]
  },
  {
   "cell_type": "markdown",
   "id": "2fe3d462",
   "metadata": {},
   "source": [
    "## looking for duplicates"
   ]
  },
  {
   "cell_type": "code",
   "execution_count": 8,
   "id": "17caea21",
   "metadata": {},
   "outputs": [
    {
     "data": {
      "text/plain": [
       "0"
      ]
     },
     "execution_count": 8,
     "metadata": {},
     "output_type": "execute_result"
    }
   ],
   "source": [
    "data.duplicated(keep=False).sum()"
   ]
  },
  {
   "cell_type": "code",
   "execution_count": 10,
   "id": "da72f92e",
   "metadata": {},
   "outputs": [
    {
     "data": {
      "text/plain": [
       "0"
      ]
     },
     "execution_count": 10,
     "metadata": {},
     "output_type": "execute_result"
    }
   ],
   "source": [
    "data[\"PID\"].duplicated(keep=False).sum()"
   ]
  },
  {
   "cell_type": "markdown",
   "id": "76946d19",
   "metadata": {},
   "source": [
    "## Outlier\n"
   ]
  },
  {
   "cell_type": "code",
   "execution_count": 10,
   "id": "7b1b3198",
   "metadata": {},
   "outputs": [
    {
     "name": "stdout",
     "output_type": "stream",
     "text": [
      "         column  stat_n_missing  stat_pct_missing          mean       median  \\\n",
      "0         Order               0             0.000  1.465500e+03       1465.5   \n",
      "1           PID               0             0.000  7.144645e+08  535453620.0   \n",
      "2   MS SubClass               0             0.000  5.738737e+01         50.0   \n",
      "3  Lot Frontage             490            16.724  6.922459e+01         68.0   \n",
      "4      Lot Area               0             0.000  1.014792e+04       9436.5   \n",
      "\n",
      "            std          min           max  quartile_25  quartile_50  \\\n",
      "0  8.459625e+02          1.0  2.930000e+03     129500.0     160000.0   \n",
      "1  1.887308e+08  526301100.0  1.007100e+09     129500.0     160000.0   \n",
      "2  4.263802e+01         20.0  1.900000e+02     129500.0     160000.0   \n",
      "3  2.336533e+01         21.0  3.130000e+02     129500.0     160000.0   \n",
      "4  7.880018e+03       1300.0  2.152450e+05     129500.0     160000.0   \n",
      "\n",
      "   quartile_75  n_unique      IQR  lower_bound  upper_bound  n_outliers  \n",
      "0     213500.0      2930  84000.0       3500.0     339500.0        2930  \n",
      "1     213500.0      2930  84000.0       3500.0     339500.0        2930  \n",
      "2     213500.0        16  84000.0       3500.0     339500.0        2930  \n",
      "3     213500.0       128  84000.0       3500.0     339500.0        2440  \n",
      "4     213500.0      1960  84000.0       3500.0     339500.0         160  \n"
     ]
    }
   ],
   "source": [
    "stats_col = data.select_dtypes(include=[\"int\", \"float\"])\n",
    "\n",
    "pre_final = []\n",
    "\n",
    "for i in stats_col:\n",
    "    n_missings = data[i].isna().sum()\n",
    "    pct_missings = round(n_missings/ len(data[i]) * 100, 3)\n",
    "    mean = data[i].mean()\n",
    "    median = data[i].median()\n",
    "    std = data[i].std()\n",
    "    mins = data[i].min()\n",
    "    maxs = data[i].max()\n",
    "    quartile_25 = data[i].quantile(0.25)\n",
    "    quartile_50 = data[i].quantile(0.50)\n",
    "    quartile_75 = data[i].quantile(0.75)\n",
    "    unique_n = data[i].nunique()\n",
    "\n",
    "    # 🔹 New: Outlier stats\n",
    "    IQR = Q3 - Q1\n",
    "    lower_bound = Q1 - 1.5 * IQR\n",
    "    upper_bound = Q3 + 1.5 * IQR\n",
    "    n_outliers = ((data[i] < lower_bound) | (data[i] > upper_bound)).sum()\n",
    "\n",
    "    pre_final.append(\n",
    "        {\n",
    "            \"column\": i,\n",
    "            \"stat_n_missing\" : n_missings,\n",
    "            \"stat_pct_missing\" : pct_missings,\n",
    "            \"mean\": mean,\n",
    "            \"median\" : median,\n",
    "            \"std\": std,\n",
    "            \"min\": mins,\n",
    "            \"max\": maxs,\n",
    "            \"quartile_25\": Q1,\n",
    "            \"quartile_50\": Q2,\n",
    "            \"quartile_75\": Q3,\n",
    "            \"n_unique\": unique_n,\n",
    "            # 🔹 Additions\n",
    "            \"IQR\": IQR,\n",
    "            \"lower_bound\": lower_bound,\n",
    "            \"upper_bound\": upper_bound,\n",
    "            \"n_outliers\": n_outliers\n",
    "        }\n",
    "    )\n",
    "\n",
    "final = pd.DataFrame(pre_final)\n",
    "print(final.head(5))\n"
   ]
  },
  {
   "cell_type": "markdown",
   "id": "f0a33c9e",
   "metadata": {},
   "source": [
    "# visualization"
   ]
  },
  {
   "cell_type": "code",
   "execution_count": 13,
   "id": "cc02e1ef",
   "metadata": {},
   "outputs": [
    {
     "data": {
      "text/plain": [
       "SalePrice          1.000000\n",
       "Overall Qual       0.799262\n",
       "Gr Liv Area        0.706780\n",
       "Garage Cars        0.647877\n",
       "Garage Area        0.640401\n",
       "Total Bsmt SF      0.632280\n",
       "1st Flr SF         0.621676\n",
       "Year Built         0.558426\n",
       "Full Bath          0.545604\n",
       "Year Remod/Add     0.532974\n",
       "Garage Yr Blt      0.526965\n",
       "Mas Vnr Area       0.508285\n",
       "TotRms AbvGrd      0.495474\n",
       "Fireplaces         0.474558\n",
       "BsmtFin SF 1       0.432914\n",
       "Lot Frontage       0.357318\n",
       "Wood Deck SF       0.327143\n",
       "Open Porch SF      0.312951\n",
       "Half Bath          0.285056\n",
       "Bsmt Full Bath     0.276050\n",
       "2nd Flr SF         0.269373\n",
       "Lot Area           0.266549\n",
       "Bsmt Unf SF        0.182855\n",
       "Bedroom AbvGr      0.143913\n",
       "Screen Porch       0.112151\n",
       "Pool Area          0.068403\n",
       "Mo Sold            0.035259\n",
       "3Ssn Porch         0.032225\n",
       "BsmtFin SF 2       0.005891\n",
       "Misc Val          -0.015691\n",
       "Yr Sold           -0.030569\n",
       "Order             -0.031408\n",
       "Bsmt Half Bath    -0.035835\n",
       "Low Qual Fin SF   -0.037660\n",
       "MS SubClass       -0.085092\n",
       "Overall Cond      -0.101697\n",
       "Kitchen AbvGr     -0.119814\n",
       "Enclosed Porch    -0.128787\n",
       "PID               -0.246521\n",
       "Name: SalePrice, dtype: float64"
      ]
     },
     "execution_count": 13,
     "metadata": {},
     "output_type": "execute_result"
    }
   ],
   "source": [
    "# to see the correlation each numeric value has to seleprice\n",
    "# Correlation numbers (like you printed) only tell you the strength and direction of a relationship.\n",
    "\n",
    "\n",
    "data.corr(numeric_only=True)[\"SalePrice\"].sort_values(ascending=False)"
   ]
  },
  {
   "cell_type": "markdown",
   "id": "4d39d660",
   "metadata": {},
   "source": [
    "# now we explore relationships between variables and the target using visualizations (e.g., scatterplots for numeric, boxplots for categorical)."
   ]
  },
  {
   "cell_type": "markdown",
   "id": "f0b0806e",
   "metadata": {},
   "source": [
    "## Scatterplots show the shape of that relationship.\n",
    "\n",
    "- Is it linear?\n",
    "\n",
    "- Are there clusters?\n",
    "\n",
    "- Are there outliers pulling the correlation?\n",
    "\n",
    "## Think of it like this: correlation is the summary headline, scatterplot is the full story."
   ]
  },
  {
   "cell_type": "code",
   "execution_count": 25,
   "id": "12e7c298",
   "metadata": {},
   "outputs": [],
   "source": [
    "# 1. Scatterplot\n",
    "\n",
    "# ✅ Use when: both variables are continuous numbers (e.g., Gr Liv Area vs SalePrice).\n",
    "\n",
    "# Example: Does more living area lead to higher prices?\n",
    "\n",
    "# ✅ Great for spotting:\n",
    "\n",
    "# Linear or nonlinear trends\n",
    "\n",
    "# Clusters or groups\n",
    "\n",
    "# Outliers (points far away from the cloud)\n",
    "\n",
    "# ❌ Don’t use when one variable is categorical/discrete with very few levels (like Overall Qual 1–10).\n",
    "\n",
    "# Why? → You’ll get vertical “stacks” of points instead of meaningful spread.\n",
    "\n",
    "# 2. Boxplot\n",
    "\n",
    "# ✅ Use when: X is categorical or discrete (like Overall Qual, Neighborhood, Full Bath), and Y is continuous (SalePrice).\n",
    "\n",
    "# Example: How does price vary across quality levels?\n",
    "\n",
    "# ✅ Great for:\n",
    "\n",
    "# Comparing medians across groups\n",
    "\n",
    "# Seeing spread (interquartile range)\n",
    "\n",
    "# Spotting outliers within each category\n",
    "\n",
    "# ❌ Don’t use when both variables are continuous — it oversimplifies the relationship into bins.\n",
    "\n",
    "# 3. Violin Plot\n",
    "\n",
    "# ✅ Same as boxplot but goes further → shows the full distribution (density) within each category.\n",
    "\n",
    "# Example: Within quality 7 houses, are most prices clustered tightly or spread out?\n",
    "\n",
    "# ✅ Good when you want to see shape of data, not just summary stats.\n",
    "\n",
    "# ❌ Don’t use if you only care about medians or if dataset is very small → violins can look misleading."
   ]
  },
  {
   "cell_type": "code",
   "execution_count": 14,
   "id": "27fd2704",
   "metadata": {},
   "outputs": [
    {
     "data": {
      "image/png": "[encoded data removed]",
      "text/plain": [
       "<Figure size 800x600 with 1 Axes>"
      ]
     },
     "metadata": {},
     "output_type": "display_data"
    }
   ],
   "source": [
    "import matplotlib.pyplot as plt  # matplotlib is the go-to plotting library in Python\n",
    "\n",
    "# Create a new figure (canvas) with size 8 inches wide, 6 inches tall\n",
    "plt.figure(figsize=(8,6))\n",
    "\n",
    "# Make a scatter plot\n",
    "# - x-axis: data[\"Gr Liv Area\"] (living area in sq ft)\n",
    "# - y-axis: data[\"SalePrice\"] (target variable, house price)\n",
    "# - alpha=0.5 makes points semi-transparent so overlapping points are visible\n",
    "plt.scatter(data[\"Gr Liv Area\"], data[\"SalePrice\"], alpha=0.5)\n",
    "\n",
    "# Label the x-axis to explain what the horizontal numbers mean\n",
    "plt.xlabel(\"Above Ground Living Area (sq ft)\")\n",
    "\n",
    "# Label the y-axis to explain what the vertical numbers mean\n",
    "plt.ylabel(\"Sale Price\")\n",
    "\n",
    "# Add a title to the chart so viewers immediately understand what is being shown\n",
    "plt.title(\"Gr Liv Area vs SalePrice\")\n",
    "\n",
    "# Actually render the chart on the screen (without this, nothing displays)\n",
    "plt.show()\n"
   ]
  },
  {
   "cell_type": "code",
   "execution_count": 16,
   "id": "335631e6",
   "metadata": {},
   "outputs": [
    {
     "name": "stderr",
     "output_type": "stream",
     "text": [
      "/tmp/ipykernel_12536/556125899.py:9: FutureWarning: \n",
      "\n",
      "Passing `palette` without assigning `hue` is deprecated and will be removed in v0.14.0. Assign the `x` variable to `hue` and set `legend=False` for the same effect.\n",
      "\n",
      "  sns.boxplot(x=data[\"Overall Qual\"], y=data[\"SalePrice\"], order=sorted(data[\"Overall Qual\"].unique()), palette=\"viridis\")\n"
     ]
    },
    {
     "data": {
      "image/png": "[encoded data removed]",
      "text/plain": [
       "<Figure size 1000x600 with 1 Axes>"
      ]
     },
     "metadata": {},
     "output_type": "display_data"
    }
   ],
   "source": [
    "# Create a new figure with a specific size\n",
    "plt.figure(figsize=(10,6))\n",
    "\n",
    "# Create a boxplot\n",
    "# - x-axis: data[\"Overall Qual\"] (categorical quality rating of the house)\n",
    "# - y-axis: data[\"SalePrice\"] (target variable, price)\n",
    "# - order=sorted(data[\"Overall Qual\"].unique()) ensures the boxes appear in order\n",
    "# - palette=\"viridis\" changes the color scheme (optional, for aesthetics)\n",
    "sns.boxplot(x=data[\"Overall Qual\"], y=data[\"SalePrice\"], order=sorted(data[\"Overall Qual\"].unique()), palette=\"viridis\")\n",
    "\n",
    "# Label the x-axis (the categories of quality)\n",
    "plt.xlabel(\"Overall Material and Finish Quality\")\n",
    "\n",
    "# Label the y-axis (the sale prices corresponding to each quality level)\n",
    "plt.ylabel(\"Sale Price\")\n",
    "\n",
    "# Add a title to explain what’s being compared\n",
    "plt.title(\"Boxplot of SalePrice by Overall Quality\")\n",
    "\n",
    "# Render the chart\n",
    "plt.show()\n"
   ]
  },
  {
   "cell_type": "code",
   "execution_count": 19,
   "id": "ebb7fdab",
   "metadata": {},
   "outputs": [
    {
     "name": "stdout",
     "output_type": "stream",
     "text": [
      "Number of outliers in SalePrice: 137\n",
      "     SalePrice  Gr Liv Area  Overall Qual\n",
      "15      538000         3279             8\n",
      "17      394432         1856             9\n",
      "36      376162         2334             9\n",
      "38      395192         1940             9\n",
      "44      611657         2364             9\n",
      "46      500000         2696             9\n",
      "60      355000         2475             8\n",
      "65      410000         3238             8\n",
      "91      362500         2349             8\n",
      "321     378500         2018             9\n"
     ]
    }
   ],
   "source": [
    "lower_bound = Q1 - 1.5 * IQR            # lower cutoff\n",
    "upper_bound = Q3 + 1.5 * IQR            # upper cutoff\n",
    "\n",
    "# Use the bounds you already calculated earlier\n",
    "outliers = (data[\"SalePrice\"] < lower_bound) | (data[\"SalePrice\"] > upper_bound)\n",
    "\n",
    "# Count how many outliers\n",
    "print(f\"Number of outliers in SalePrice: {outliers.sum()}\")\n",
    "\n",
    "# Inspect the first few outliers\n",
    "print(data.loc[outliers, [\"SalePrice\", \"Gr Liv Area\", \"Overall Qual\"]].head(10))\n"
   ]
  },
  {
   "cell_type": "code",
   "execution_count": 14,
   "id": "0d5f31b1",
   "metadata": {},
   "outputs": [
    {
     "data": {
      "image/png": "[encoded data removed]",
      "text/plain": [
       "<Figure size 800x500 with 1 Axes>"
      ]
     },
     "metadata": {},
     "output_type": "display_data"
    },
    {
     "data": {
      "image/png": "[encoded data removed]",
      "text/plain": [
       "<Figure size 600x300 with 1 Axes>"
      ]
     },
     "metadata": {},
     "output_type": "display_data"
    }
   ],
   "source": [
    "#histogram shows if most houses are in a low price range or if prices are spread out.\n",
    "# Histogram for SalePrice\n",
    "plt.figure(figsize=(8, 5))\n",
    "sns.histplot(data['SalePrice'], bins=30, kde=True)  \n",
    "# bins=30 → groups data into 30 buckets\n",
    "# kde=True → adds a smooth curve to show the shape of distribution\n",
    "plt.title(\"Distribution of Sale Prices\")\n",
    "plt.xlabel(\"Sale Price\")\n",
    "plt.ylabel(\"Frequency\")\n",
    "plt.show()\n",
    "\n",
    "\n",
    "#Boxplots are very useful to spot skewness and extreme values quickly.\n",
    "# Boxplot for SalePrice\n",
    "plt.figure(figsize=(6, 3))\n",
    "sns.boxplot(x=data['SalePrice'])\n",
    "plt.title(\"Boxplot of Sale Prices\")\n",
    "plt.show()\n",
    "\n",
    "\n",
    "# Histogram → Is the distribution normal, skewed right (long tail to high values), or skewed left?\n",
    "\n",
    "# Boxplot → How many outliers? Is the median centered or skewed?"
   ]
  },
  {
   "cell_type": "markdown",
   "id": "ad46c89b",
   "metadata": {},
   "source": [
    "## SalePrice is right-skewed (mean > median, skew > 1.0) with ~5% high-value outliers that are plausible; we will keep them but apply a log1p transform to normalize the distribution for modeling."
   ]
  },
  {
   "cell_type": "code",
   "execution_count": 13,
   "id": "2c8a453b",
   "metadata": {},
   "outputs": [
    {
     "name": "stdout",
     "output_type": "stream",
     "text": [
      "Number of duplicate rows: 0\n"
     ]
    }
   ],
   "source": [
    "from file_utils import check_duplicates\n",
    "\n",
    "duplicates, n_duplicates = check_duplicates(data)\n",
    "print(f\"Number of duplicate rows: {n_duplicates}\")\n",
    "if n_duplicates > 0:\n",
    "    print(duplicates.head())\n"
   ]
  },
  {
   "cell_type": "markdown",
   "id": "1bde4d22",
   "metadata": {},
   "source": [
    "# Export Clean Data"
   ]
  },
  {
   "cell_type": "code",
   "execution_count": 18,
   "id": "94fb3dbc",
   "metadata": {},
   "outputs": [
    {
     "name": "stdout",
     "output_type": "stream",
     "text": [
      "Cleaned dataset saved to: /home/bonson/Desktop/mljourney/tempo/week03/week03_project/eda_dashboard/data/processed/cleaned_data.csv\n"
     ]
    }
   ],
   "source": [
    "processed_path = os.path.join(PROJECT_ROOT, \"data\", \"processed\", \"cleaned_data.csv\")\n",
    "os.makedirs(os.path.dirname(processed_path), exist_ok=True) # to make sure dir exist\n",
    "data.to_csv(processed_path, index= False)  # index=False → means do NOT write the DataFrame index column into the CSV file.\n",
    "\n",
    "logging.info(f\"Cleaned dataset saved to: {processed_path}\")\n",
    "print(f\"Cleaned dataset saved to: {processed_path}\")"
   ]
  },
  {
   "cell_type": "markdown",
   "id": "301d8c26",
   "metadata": {},
   "source": [
    "# Exporting Reports"
   ]
  },
  {
   "cell_type": "code",
   "execution_count": 19,
   "id": "dfc2f3d4",
   "metadata": {},
   "outputs": [
    {
     "name": "stdout",
     "output_type": "stream",
     "text": [
      "Missing values report saved to: /home/bonson/Desktop/mljourney/tempo/week03/week03_project/eda_dashboard/reports/missing_values_report.csv\n",
      "Duplicates report saved to: /home/bonson/Desktop/mljourney/tempo/week03/week03_project/eda_dashboard/reports/duplicates_report.csv\n",
      "Statistical summary report saved to: /home/bonson/Desktop/mljourney/tempo/week03/week03_project/eda_dashboard/reports/summary_report.csv\n"
     ]
    }
   ],
   "source": [
    "# Reports directory inside project root\n",
    "reports_dir = os.path.join(PROJECT_ROOT, \"reports\")\n",
    "os.makedirs(reports_dir, exist_ok=True)  # make sure \"reports/\" exists\n",
    "\n",
    "# Missing values report\n",
    "missing_report = missing_values_report(data)\n",
    "missing_report_path = os.path.join(reports_dir, \"missing_values_report.csv\")\n",
    "missing_report.to_csv(missing_report_path)\n",
    "logging.info(f\"Missing values report saved to: {missing_report_path}\")\n",
    "print(f\"Missing values report saved to: {missing_report_path}\")\n",
    "\n",
    "# Duplicate rows report\n",
    "duplicate_rows = data[data.duplicated(keep=False)]\n",
    "duplicates_path = os.path.join(reports_dir, \"duplicates_report.csv\")\n",
    "duplicate_rows.to_csv(duplicates_path, index=False)\n",
    "logging.info(f\"Duplicates report saved to: {duplicates_path}\")\n",
    "print(f\"Duplicates report saved to: {duplicates_path}\")\n",
    "\n",
    "# Statistical summary report\n",
    "summary_report = data.describe().T  # T = transpose for readability\n",
    "summary_path = os.path.join(reports_dir, \"summary_report.csv\")\n",
    "summary_report.to_csv(summary_path)\n",
    "logging.info(f\"Statistical summary report saved to: {summary_path}\")\n",
    "print(f\"Statistical summary report saved to: {summary_path}\")\n"
   ]
  },
  {
   "cell_type": "code",
   "execution_count": null,
   "id": "8e0e94fc",
   "metadata": {},
   "outputs": [],
   "source": []
  }
 ],
 "metadata": {
  "kernelspec": {
   "display_name": "Python 3",
   "language": "python",
   "name": "python3"
  },
  "language_info": {
   "codemirror_mode": {
    "name": "ipython",
    "version": 3
   },
   "file_extension": ".py",
   "mimetype": "text/x-python",
   "name": "python",
   "nbconvert_exporter": "python",
   "pygments_lexer": "ipython3",
   "version": "3.12.0"
  }
 },
 "nbformat": 4,
 "nbformat_minor": 5
}
